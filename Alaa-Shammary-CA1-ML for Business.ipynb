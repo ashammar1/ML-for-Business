{
 "cells": [
  {
   "cell_type": "code",
   "execution_count": 3,
   "id": "6cfd8fc9",
   "metadata": {},
   "outputs": [],
   "source": [
    "import pandas as pd\n",
    "import numpy as np\n",
    "import matplotlib.pyplot as plt\n",
    "import seaborn as sns\n",
    "from sklearn.preprocessing import LabelEncoder,OneHotEncoder, StandardScaler\n",
    "from sklearn_extra.cluster import KMedoids\n",
    "from sklearn.cluster import KMeans, DBSCAN\n",
    "from scipy.cluster.hierarchy import linkage, dendrogram\n",
    "from sklearn.metrics import silhouette_score\n",
    "from sklearn.pipeline import Pipeline\n",
    "from sklearn.compose import ColumnTransformer\n",
    "from sklearn.preprocessing import FunctionTransformer\n",
    "from sklearn.feature_extraction.text import TfidfVectorizer\n",
    "from sklearn.decomposition import TruncatedSVD\n",
    "from mlxtend.frequent_patterns import apriori, association_rules\n",
    "from mlxtend.frequent_patterns import fpgrowth\n",
    "\n",
    "import warnings\n",
    "warnings.filterwarnings('ignore')"
   ]
  },
  {
   "cell_type": "code",
   "execution_count": 4,
   "id": "88122dfe",
   "metadata": {},
   "outputs": [],
   "source": [
    "d1 = pd.read_excel('data.xlsx',0)"
   ]
  },
  {
   "cell_type": "code",
   "execution_count": 5,
   "id": "97b812a8",
   "metadata": {},
   "outputs": [
    {
     "data": {
      "text/html": [
       "<div>\n",
       "<style scoped>\n",
       "    .dataframe tbody tr th:only-of-type {\n",
       "        vertical-align: middle;\n",
       "    }\n",
       "\n",
       "    .dataframe tbody tr th {\n",
       "        vertical-align: top;\n",
       "    }\n",
       "\n",
       "    .dataframe thead th {\n",
       "        text-align: right;\n",
       "    }\n",
       "</style>\n",
       "<table border=\"1\" class=\"dataframe\">\n",
       "  <thead>\n",
       "    <tr style=\"text-align: right;\">\n",
       "      <th></th>\n",
       "      <th>Invoice</th>\n",
       "      <th>StockCode</th>\n",
       "      <th>Description</th>\n",
       "      <th>Quantity</th>\n",
       "      <th>InvoiceDate</th>\n",
       "      <th>Price</th>\n",
       "      <th>Customer ID</th>\n",
       "      <th>Country</th>\n",
       "    </tr>\n",
       "  </thead>\n",
       "  <tbody>\n",
       "    <tr>\n",
       "      <th>0</th>\n",
       "      <td>489434</td>\n",
       "      <td>85048</td>\n",
       "      <td>15CM CHRISTMAS GLASS BALL 20 LIGHTS</td>\n",
       "      <td>12</td>\n",
       "      <td>2009-12-01 07:45:00</td>\n",
       "      <td>6.95</td>\n",
       "      <td>13085.0</td>\n",
       "      <td>United Kingdom</td>\n",
       "    </tr>\n",
       "    <tr>\n",
       "      <th>1</th>\n",
       "      <td>489434</td>\n",
       "      <td>79323P</td>\n",
       "      <td>PINK CHERRY LIGHTS</td>\n",
       "      <td>12</td>\n",
       "      <td>2009-12-01 07:45:00</td>\n",
       "      <td>6.75</td>\n",
       "      <td>13085.0</td>\n",
       "      <td>United Kingdom</td>\n",
       "    </tr>\n",
       "    <tr>\n",
       "      <th>2</th>\n",
       "      <td>489434</td>\n",
       "      <td>79323W</td>\n",
       "      <td>WHITE CHERRY LIGHTS</td>\n",
       "      <td>12</td>\n",
       "      <td>2009-12-01 07:45:00</td>\n",
       "      <td>6.75</td>\n",
       "      <td>13085.0</td>\n",
       "      <td>United Kingdom</td>\n",
       "    </tr>\n",
       "    <tr>\n",
       "      <th>3</th>\n",
       "      <td>489434</td>\n",
       "      <td>22041</td>\n",
       "      <td>RECORD FRAME 7\" SINGLE SIZE</td>\n",
       "      <td>48</td>\n",
       "      <td>2009-12-01 07:45:00</td>\n",
       "      <td>2.10</td>\n",
       "      <td>13085.0</td>\n",
       "      <td>United Kingdom</td>\n",
       "    </tr>\n",
       "    <tr>\n",
       "      <th>4</th>\n",
       "      <td>489434</td>\n",
       "      <td>21232</td>\n",
       "      <td>STRAWBERRY CERAMIC TRINKET BOX</td>\n",
       "      <td>24</td>\n",
       "      <td>2009-12-01 07:45:00</td>\n",
       "      <td>1.25</td>\n",
       "      <td>13085.0</td>\n",
       "      <td>United Kingdom</td>\n",
       "    </tr>\n",
       "  </tbody>\n",
       "</table>\n",
       "</div>"
      ],
      "text/plain": [
       "  Invoice StockCode                          Description  Quantity  \\\n",
       "0  489434     85048  15CM CHRISTMAS GLASS BALL 20 LIGHTS        12   \n",
       "1  489434    79323P                   PINK CHERRY LIGHTS        12   \n",
       "2  489434    79323W                  WHITE CHERRY LIGHTS        12   \n",
       "3  489434     22041         RECORD FRAME 7\" SINGLE SIZE         48   \n",
       "4  489434     21232       STRAWBERRY CERAMIC TRINKET BOX        24   \n",
       "\n",
       "          InvoiceDate  Price  Customer ID         Country  \n",
       "0 2009-12-01 07:45:00   6.95      13085.0  United Kingdom  \n",
       "1 2009-12-01 07:45:00   6.75      13085.0  United Kingdom  \n",
       "2 2009-12-01 07:45:00   6.75      13085.0  United Kingdom  \n",
       "3 2009-12-01 07:45:00   2.10      13085.0  United Kingdom  \n",
       "4 2009-12-01 07:45:00   1.25      13085.0  United Kingdom  "
      ]
     },
     "execution_count": 5,
     "metadata": {},
     "output_type": "execute_result"
    }
   ],
   "source": [
    "d1.head()"
   ]
  },
  {
   "cell_type": "code",
   "execution_count": 6,
   "id": "0250a358",
   "metadata": {},
   "outputs": [],
   "source": [
    "d2 = pd.read_excel('data.xlsx',1)"
   ]
  },
  {
   "cell_type": "code",
   "execution_count": 7,
   "id": "3e4350d4",
   "metadata": {},
   "outputs": [
    {
     "data": {
      "text/html": [
       "<div>\n",
       "<style scoped>\n",
       "    .dataframe tbody tr th:only-of-type {\n",
       "        vertical-align: middle;\n",
       "    }\n",
       "\n",
       "    .dataframe tbody tr th {\n",
       "        vertical-align: top;\n",
       "    }\n",
       "\n",
       "    .dataframe thead th {\n",
       "        text-align: right;\n",
       "    }\n",
       "</style>\n",
       "<table border=\"1\" class=\"dataframe\">\n",
       "  <thead>\n",
       "    <tr style=\"text-align: right;\">\n",
       "      <th></th>\n",
       "      <th>Invoice</th>\n",
       "      <th>StockCode</th>\n",
       "      <th>Description</th>\n",
       "      <th>Quantity</th>\n",
       "      <th>InvoiceDate</th>\n",
       "      <th>Price</th>\n",
       "      <th>Customer ID</th>\n",
       "      <th>Country</th>\n",
       "    </tr>\n",
       "  </thead>\n",
       "  <tbody>\n",
       "    <tr>\n",
       "      <th>0</th>\n",
       "      <td>536365</td>\n",
       "      <td>85123A</td>\n",
       "      <td>WHITE HANGING HEART T-LIGHT HOLDER</td>\n",
       "      <td>6</td>\n",
       "      <td>2010-12-01 08:26:00</td>\n",
       "      <td>2.55</td>\n",
       "      <td>17850.0</td>\n",
       "      <td>United Kingdom</td>\n",
       "    </tr>\n",
       "    <tr>\n",
       "      <th>1</th>\n",
       "      <td>536365</td>\n",
       "      <td>71053</td>\n",
       "      <td>WHITE METAL LANTERN</td>\n",
       "      <td>6</td>\n",
       "      <td>2010-12-01 08:26:00</td>\n",
       "      <td>3.39</td>\n",
       "      <td>17850.0</td>\n",
       "      <td>United Kingdom</td>\n",
       "    </tr>\n",
       "    <tr>\n",
       "      <th>2</th>\n",
       "      <td>536365</td>\n",
       "      <td>84406B</td>\n",
       "      <td>CREAM CUPID HEARTS COAT HANGER</td>\n",
       "      <td>8</td>\n",
       "      <td>2010-12-01 08:26:00</td>\n",
       "      <td>2.75</td>\n",
       "      <td>17850.0</td>\n",
       "      <td>United Kingdom</td>\n",
       "    </tr>\n",
       "    <tr>\n",
       "      <th>3</th>\n",
       "      <td>536365</td>\n",
       "      <td>84029G</td>\n",
       "      <td>KNITTED UNION FLAG HOT WATER BOTTLE</td>\n",
       "      <td>6</td>\n",
       "      <td>2010-12-01 08:26:00</td>\n",
       "      <td>3.39</td>\n",
       "      <td>17850.0</td>\n",
       "      <td>United Kingdom</td>\n",
       "    </tr>\n",
       "    <tr>\n",
       "      <th>4</th>\n",
       "      <td>536365</td>\n",
       "      <td>84029E</td>\n",
       "      <td>RED WOOLLY HOTTIE WHITE HEART.</td>\n",
       "      <td>6</td>\n",
       "      <td>2010-12-01 08:26:00</td>\n",
       "      <td>3.39</td>\n",
       "      <td>17850.0</td>\n",
       "      <td>United Kingdom</td>\n",
       "    </tr>\n",
       "  </tbody>\n",
       "</table>\n",
       "</div>"
      ],
      "text/plain": [
       "  Invoice StockCode                          Description  Quantity  \\\n",
       "0  536365    85123A   WHITE HANGING HEART T-LIGHT HOLDER         6   \n",
       "1  536365     71053                  WHITE METAL LANTERN         6   \n",
       "2  536365    84406B       CREAM CUPID HEARTS COAT HANGER         8   \n",
       "3  536365    84029G  KNITTED UNION FLAG HOT WATER BOTTLE         6   \n",
       "4  536365    84029E       RED WOOLLY HOTTIE WHITE HEART.         6   \n",
       "\n",
       "          InvoiceDate  Price  Customer ID         Country  \n",
       "0 2010-12-01 08:26:00   2.55      17850.0  United Kingdom  \n",
       "1 2010-12-01 08:26:00   3.39      17850.0  United Kingdom  \n",
       "2 2010-12-01 08:26:00   2.75      17850.0  United Kingdom  \n",
       "3 2010-12-01 08:26:00   3.39      17850.0  United Kingdom  \n",
       "4 2010-12-01 08:26:00   3.39      17850.0  United Kingdom  "
      ]
     },
     "execution_count": 7,
     "metadata": {},
     "output_type": "execute_result"
    }
   ],
   "source": [
    "d2.head()"
   ]
  },
  {
   "cell_type": "code",
   "execution_count": 8,
   "id": "799b9876",
   "metadata": {},
   "outputs": [],
   "source": [
    "data_df = pd.concat([d1,d2])"
   ]
  },
  {
   "cell_type": "code",
   "execution_count": 9,
   "id": "d0f23df9",
   "metadata": {},
   "outputs": [
    {
     "data": {
      "text/html": [
       "<div>\n",
       "<style scoped>\n",
       "    .dataframe tbody tr th:only-of-type {\n",
       "        vertical-align: middle;\n",
       "    }\n",
       "\n",
       "    .dataframe tbody tr th {\n",
       "        vertical-align: top;\n",
       "    }\n",
       "\n",
       "    .dataframe thead th {\n",
       "        text-align: right;\n",
       "    }\n",
       "</style>\n",
       "<table border=\"1\" class=\"dataframe\">\n",
       "  <thead>\n",
       "    <tr style=\"text-align: right;\">\n",
       "      <th></th>\n",
       "      <th>Invoice</th>\n",
       "      <th>StockCode</th>\n",
       "      <th>Description</th>\n",
       "      <th>Quantity</th>\n",
       "      <th>InvoiceDate</th>\n",
       "      <th>Price</th>\n",
       "      <th>Customer ID</th>\n",
       "      <th>Country</th>\n",
       "    </tr>\n",
       "  </thead>\n",
       "  <tbody>\n",
       "    <tr>\n",
       "      <th>0</th>\n",
       "      <td>489434</td>\n",
       "      <td>85048</td>\n",
       "      <td>15CM CHRISTMAS GLASS BALL 20 LIGHTS</td>\n",
       "      <td>12</td>\n",
       "      <td>2009-12-01 07:45:00</td>\n",
       "      <td>6.95</td>\n",
       "      <td>13085.0</td>\n",
       "      <td>United Kingdom</td>\n",
       "    </tr>\n",
       "    <tr>\n",
       "      <th>1</th>\n",
       "      <td>489434</td>\n",
       "      <td>79323P</td>\n",
       "      <td>PINK CHERRY LIGHTS</td>\n",
       "      <td>12</td>\n",
       "      <td>2009-12-01 07:45:00</td>\n",
       "      <td>6.75</td>\n",
       "      <td>13085.0</td>\n",
       "      <td>United Kingdom</td>\n",
       "    </tr>\n",
       "    <tr>\n",
       "      <th>2</th>\n",
       "      <td>489434</td>\n",
       "      <td>79323W</td>\n",
       "      <td>WHITE CHERRY LIGHTS</td>\n",
       "      <td>12</td>\n",
       "      <td>2009-12-01 07:45:00</td>\n",
       "      <td>6.75</td>\n",
       "      <td>13085.0</td>\n",
       "      <td>United Kingdom</td>\n",
       "    </tr>\n",
       "    <tr>\n",
       "      <th>3</th>\n",
       "      <td>489434</td>\n",
       "      <td>22041</td>\n",
       "      <td>RECORD FRAME 7\" SINGLE SIZE</td>\n",
       "      <td>48</td>\n",
       "      <td>2009-12-01 07:45:00</td>\n",
       "      <td>2.10</td>\n",
       "      <td>13085.0</td>\n",
       "      <td>United Kingdom</td>\n",
       "    </tr>\n",
       "    <tr>\n",
       "      <th>4</th>\n",
       "      <td>489434</td>\n",
       "      <td>21232</td>\n",
       "      <td>STRAWBERRY CERAMIC TRINKET BOX</td>\n",
       "      <td>24</td>\n",
       "      <td>2009-12-01 07:45:00</td>\n",
       "      <td>1.25</td>\n",
       "      <td>13085.0</td>\n",
       "      <td>United Kingdom</td>\n",
       "    </tr>\n",
       "    <tr>\n",
       "      <th>5</th>\n",
       "      <td>489434</td>\n",
       "      <td>22064</td>\n",
       "      <td>PINK DOUGHNUT TRINKET POT</td>\n",
       "      <td>24</td>\n",
       "      <td>2009-12-01 07:45:00</td>\n",
       "      <td>1.65</td>\n",
       "      <td>13085.0</td>\n",
       "      <td>United Kingdom</td>\n",
       "    </tr>\n",
       "    <tr>\n",
       "      <th>6</th>\n",
       "      <td>489434</td>\n",
       "      <td>21871</td>\n",
       "      <td>SAVE THE PLANET MUG</td>\n",
       "      <td>24</td>\n",
       "      <td>2009-12-01 07:45:00</td>\n",
       "      <td>1.25</td>\n",
       "      <td>13085.0</td>\n",
       "      <td>United Kingdom</td>\n",
       "    </tr>\n",
       "    <tr>\n",
       "      <th>7</th>\n",
       "      <td>489434</td>\n",
       "      <td>21523</td>\n",
       "      <td>FANCY FONT HOME SWEET HOME DOORMAT</td>\n",
       "      <td>10</td>\n",
       "      <td>2009-12-01 07:45:00</td>\n",
       "      <td>5.95</td>\n",
       "      <td>13085.0</td>\n",
       "      <td>United Kingdom</td>\n",
       "    </tr>\n",
       "    <tr>\n",
       "      <th>8</th>\n",
       "      <td>489435</td>\n",
       "      <td>22350</td>\n",
       "      <td>CAT BOWL</td>\n",
       "      <td>12</td>\n",
       "      <td>2009-12-01 07:46:00</td>\n",
       "      <td>2.55</td>\n",
       "      <td>13085.0</td>\n",
       "      <td>United Kingdom</td>\n",
       "    </tr>\n",
       "    <tr>\n",
       "      <th>9</th>\n",
       "      <td>489435</td>\n",
       "      <td>22349</td>\n",
       "      <td>DOG BOWL , CHASING BALL DESIGN</td>\n",
       "      <td>12</td>\n",
       "      <td>2009-12-01 07:46:00</td>\n",
       "      <td>3.75</td>\n",
       "      <td>13085.0</td>\n",
       "      <td>United Kingdom</td>\n",
       "    </tr>\n",
       "    <tr>\n",
       "      <th>10</th>\n",
       "      <td>489435</td>\n",
       "      <td>22195</td>\n",
       "      <td>HEART MEASURING SPOONS LARGE</td>\n",
       "      <td>24</td>\n",
       "      <td>2009-12-01 07:46:00</td>\n",
       "      <td>1.65</td>\n",
       "      <td>13085.0</td>\n",
       "      <td>United Kingdom</td>\n",
       "    </tr>\n",
       "    <tr>\n",
       "      <th>11</th>\n",
       "      <td>489435</td>\n",
       "      <td>22353</td>\n",
       "      <td>LUNCHBOX WITH CUTLERY FAIRY CAKES</td>\n",
       "      <td>12</td>\n",
       "      <td>2009-12-01 07:46:00</td>\n",
       "      <td>2.55</td>\n",
       "      <td>13085.0</td>\n",
       "      <td>United Kingdom</td>\n",
       "    </tr>\n",
       "    <tr>\n",
       "      <th>12</th>\n",
       "      <td>489436</td>\n",
       "      <td>48173C</td>\n",
       "      <td>DOOR MAT BLACK FLOCK</td>\n",
       "      <td>10</td>\n",
       "      <td>2009-12-01 09:06:00</td>\n",
       "      <td>5.95</td>\n",
       "      <td>13078.0</td>\n",
       "      <td>United Kingdom</td>\n",
       "    </tr>\n",
       "    <tr>\n",
       "      <th>13</th>\n",
       "      <td>489436</td>\n",
       "      <td>21755</td>\n",
       "      <td>LOVE BUILDING BLOCK WORD</td>\n",
       "      <td>18</td>\n",
       "      <td>2009-12-01 09:06:00</td>\n",
       "      <td>5.45</td>\n",
       "      <td>13078.0</td>\n",
       "      <td>United Kingdom</td>\n",
       "    </tr>\n",
       "    <tr>\n",
       "      <th>14</th>\n",
       "      <td>489436</td>\n",
       "      <td>21754</td>\n",
       "      <td>HOME BUILDING BLOCK WORD</td>\n",
       "      <td>3</td>\n",
       "      <td>2009-12-01 09:06:00</td>\n",
       "      <td>5.95</td>\n",
       "      <td>13078.0</td>\n",
       "      <td>United Kingdom</td>\n",
       "    </tr>\n",
       "    <tr>\n",
       "      <th>15</th>\n",
       "      <td>489436</td>\n",
       "      <td>84879</td>\n",
       "      <td>ASSORTED COLOUR BIRD ORNAMENT</td>\n",
       "      <td>16</td>\n",
       "      <td>2009-12-01 09:06:00</td>\n",
       "      <td>1.69</td>\n",
       "      <td>13078.0</td>\n",
       "      <td>United Kingdom</td>\n",
       "    </tr>\n",
       "    <tr>\n",
       "      <th>16</th>\n",
       "      <td>489436</td>\n",
       "      <td>22119</td>\n",
       "      <td>PEACE WOODEN BLOCK LETTERS</td>\n",
       "      <td>3</td>\n",
       "      <td>2009-12-01 09:06:00</td>\n",
       "      <td>6.95</td>\n",
       "      <td>13078.0</td>\n",
       "      <td>United Kingdom</td>\n",
       "    </tr>\n",
       "    <tr>\n",
       "      <th>17</th>\n",
       "      <td>489436</td>\n",
       "      <td>22142</td>\n",
       "      <td>CHRISTMAS CRAFT WHITE FAIRY</td>\n",
       "      <td>12</td>\n",
       "      <td>2009-12-01 09:06:00</td>\n",
       "      <td>1.45</td>\n",
       "      <td>13078.0</td>\n",
       "      <td>United Kingdom</td>\n",
       "    </tr>\n",
       "    <tr>\n",
       "      <th>18</th>\n",
       "      <td>489436</td>\n",
       "      <td>22296</td>\n",
       "      <td>HEART IVORY TRELLIS LARGE</td>\n",
       "      <td>12</td>\n",
       "      <td>2009-12-01 09:06:00</td>\n",
       "      <td>1.65</td>\n",
       "      <td>13078.0</td>\n",
       "      <td>United Kingdom</td>\n",
       "    </tr>\n",
       "    <tr>\n",
       "      <th>19</th>\n",
       "      <td>489436</td>\n",
       "      <td>22295</td>\n",
       "      <td>HEART FILIGREE DOVE LARGE</td>\n",
       "      <td>12</td>\n",
       "      <td>2009-12-01 09:06:00</td>\n",
       "      <td>1.65</td>\n",
       "      <td>13078.0</td>\n",
       "      <td>United Kingdom</td>\n",
       "    </tr>\n",
       "    <tr>\n",
       "      <th>20</th>\n",
       "      <td>489436</td>\n",
       "      <td>22109</td>\n",
       "      <td>FULL ENGLISH BREAKFAST PLATE</td>\n",
       "      <td>16</td>\n",
       "      <td>2009-12-01 09:06:00</td>\n",
       "      <td>3.39</td>\n",
       "      <td>13078.0</td>\n",
       "      <td>United Kingdom</td>\n",
       "    </tr>\n",
       "    <tr>\n",
       "      <th>21</th>\n",
       "      <td>489436</td>\n",
       "      <td>22107</td>\n",
       "      <td>PIZZA PLATE IN BOX</td>\n",
       "      <td>4</td>\n",
       "      <td>2009-12-01 09:06:00</td>\n",
       "      <td>3.75</td>\n",
       "      <td>13078.0</td>\n",
       "      <td>United Kingdom</td>\n",
       "    </tr>\n",
       "    <tr>\n",
       "      <th>22</th>\n",
       "      <td>489436</td>\n",
       "      <td>22194</td>\n",
       "      <td>BLACK DINER WALL CLOCK</td>\n",
       "      <td>2</td>\n",
       "      <td>2009-12-01 09:06:00</td>\n",
       "      <td>8.50</td>\n",
       "      <td>13078.0</td>\n",
       "      <td>United Kingdom</td>\n",
       "    </tr>\n",
       "    <tr>\n",
       "      <th>23</th>\n",
       "      <td>489436</td>\n",
       "      <td>35004B</td>\n",
       "      <td>SET OF 3 BLACK FLYING DUCKS</td>\n",
       "      <td>12</td>\n",
       "      <td>2009-12-01 09:06:00</td>\n",
       "      <td>4.65</td>\n",
       "      <td>13078.0</td>\n",
       "      <td>United Kingdom</td>\n",
       "    </tr>\n",
       "    <tr>\n",
       "      <th>24</th>\n",
       "      <td>489436</td>\n",
       "      <td>82582</td>\n",
       "      <td>AREA PATROLLED METAL SIGN</td>\n",
       "      <td>12</td>\n",
       "      <td>2009-12-01 09:06:00</td>\n",
       "      <td>2.10</td>\n",
       "      <td>13078.0</td>\n",
       "      <td>United Kingdom</td>\n",
       "    </tr>\n",
       "    <tr>\n",
       "      <th>25</th>\n",
       "      <td>489436</td>\n",
       "      <td>21181</td>\n",
       "      <td>PLEASE ONE PERSON  METAL SIGN</td>\n",
       "      <td>12</td>\n",
       "      <td>2009-12-01 09:06:00</td>\n",
       "      <td>2.10</td>\n",
       "      <td>13078.0</td>\n",
       "      <td>United Kingdom</td>\n",
       "    </tr>\n",
       "    <tr>\n",
       "      <th>26</th>\n",
       "      <td>489436</td>\n",
       "      <td>21756</td>\n",
       "      <td>BATH BUILDING BLOCK WORD</td>\n",
       "      <td>3</td>\n",
       "      <td>2009-12-01 09:06:00</td>\n",
       "      <td>5.95</td>\n",
       "      <td>13078.0</td>\n",
       "      <td>United Kingdom</td>\n",
       "    </tr>\n",
       "    <tr>\n",
       "      <th>27</th>\n",
       "      <td>489436</td>\n",
       "      <td>21333</td>\n",
       "      <td>CLASSIC WHITE FRAME</td>\n",
       "      <td>6</td>\n",
       "      <td>2009-12-01 09:06:00</td>\n",
       "      <td>2.95</td>\n",
       "      <td>13078.0</td>\n",
       "      <td>United Kingdom</td>\n",
       "    </tr>\n",
       "    <tr>\n",
       "      <th>28</th>\n",
       "      <td>489436</td>\n",
       "      <td>84596F</td>\n",
       "      <td>SMALL MARSHMALLOWS PINK BOWL</td>\n",
       "      <td>8</td>\n",
       "      <td>2009-12-01 09:06:00</td>\n",
       "      <td>1.25</td>\n",
       "      <td>13078.0</td>\n",
       "      <td>United Kingdom</td>\n",
       "    </tr>\n",
       "    <tr>\n",
       "      <th>29</th>\n",
       "      <td>489436</td>\n",
       "      <td>84596L</td>\n",
       "      <td>BISCUITS SMALL BOWL LIGHT BLUE</td>\n",
       "      <td>8</td>\n",
       "      <td>2009-12-01 09:06:00</td>\n",
       "      <td>1.25</td>\n",
       "      <td>13078.0</td>\n",
       "      <td>United Kingdom</td>\n",
       "    </tr>\n",
       "    <tr>\n",
       "      <th>30</th>\n",
       "      <td>489436</td>\n",
       "      <td>22111</td>\n",
       "      <td>SCOTTIE DOG HOT WATER BOTTLE</td>\n",
       "      <td>24</td>\n",
       "      <td>2009-12-01 09:06:00</td>\n",
       "      <td>4.25</td>\n",
       "      <td>13078.0</td>\n",
       "      <td>United Kingdom</td>\n",
       "    </tr>\n",
       "    <tr>\n",
       "      <th>31</th>\n",
       "      <td>489437</td>\n",
       "      <td>22143</td>\n",
       "      <td>CHRISTMAS CRAFT HEART DECORATIONS</td>\n",
       "      <td>6</td>\n",
       "      <td>2009-12-01 09:08:00</td>\n",
       "      <td>2.10</td>\n",
       "      <td>15362.0</td>\n",
       "      <td>United Kingdom</td>\n",
       "    </tr>\n",
       "    <tr>\n",
       "      <th>32</th>\n",
       "      <td>489437</td>\n",
       "      <td>22145</td>\n",
       "      <td>CHRISTMAS CRAFT HEART STOCKING</td>\n",
       "      <td>6</td>\n",
       "      <td>2009-12-01 09:08:00</td>\n",
       "      <td>2.10</td>\n",
       "      <td>15362.0</td>\n",
       "      <td>United Kingdom</td>\n",
       "    </tr>\n",
       "    <tr>\n",
       "      <th>33</th>\n",
       "      <td>489437</td>\n",
       "      <td>22130</td>\n",
       "      <td>PARTY CONE CHRISTMAS DECORATION</td>\n",
       "      <td>12</td>\n",
       "      <td>2009-12-01 09:08:00</td>\n",
       "      <td>0.85</td>\n",
       "      <td>15362.0</td>\n",
       "      <td>United Kingdom</td>\n",
       "    </tr>\n",
       "    <tr>\n",
       "      <th>34</th>\n",
       "      <td>489437</td>\n",
       "      <td>21364</td>\n",
       "      <td>PEACE SMALL WOOD LETTERS</td>\n",
       "      <td>2</td>\n",
       "      <td>2009-12-01 09:08:00</td>\n",
       "      <td>6.75</td>\n",
       "      <td>15362.0</td>\n",
       "      <td>United Kingdom</td>\n",
       "    </tr>\n",
       "    <tr>\n",
       "      <th>35</th>\n",
       "      <td>489437</td>\n",
       "      <td>21360</td>\n",
       "      <td>JOY LARGE WOOD LETTERS</td>\n",
       "      <td>1</td>\n",
       "      <td>2009-12-01 09:08:00</td>\n",
       "      <td>9.95</td>\n",
       "      <td>15362.0</td>\n",
       "      <td>United Kingdom</td>\n",
       "    </tr>\n",
       "    <tr>\n",
       "      <th>36</th>\n",
       "      <td>489437</td>\n",
       "      <td>21351</td>\n",
       "      <td>CINAMMON &amp; ORANGE WREATH</td>\n",
       "      <td>2</td>\n",
       "      <td>2009-12-01 09:08:00</td>\n",
       "      <td>6.75</td>\n",
       "      <td>15362.0</td>\n",
       "      <td>United Kingdom</td>\n",
       "    </tr>\n",
       "    <tr>\n",
       "      <th>37</th>\n",
       "      <td>489437</td>\n",
       "      <td>21352</td>\n",
       "      <td>EUCALYPTUS &amp; PINECONE  WREATH</td>\n",
       "      <td>2</td>\n",
       "      <td>2009-12-01 09:08:00</td>\n",
       "      <td>6.75</td>\n",
       "      <td>15362.0</td>\n",
       "      <td>United Kingdom</td>\n",
       "    </tr>\n",
       "    <tr>\n",
       "      <th>38</th>\n",
       "      <td>489437</td>\n",
       "      <td>35400</td>\n",
       "      <td>WOODEN BOX ADVENT CALENDAR</td>\n",
       "      <td>2</td>\n",
       "      <td>2009-12-01 09:08:00</td>\n",
       "      <td>8.95</td>\n",
       "      <td>15362.0</td>\n",
       "      <td>United Kingdom</td>\n",
       "    </tr>\n",
       "    <tr>\n",
       "      <th>39</th>\n",
       "      <td>489437</td>\n",
       "      <td>20695</td>\n",
       "      <td>FLORAL BLUE MONSTER</td>\n",
       "      <td>3</td>\n",
       "      <td>2009-12-01 09:08:00</td>\n",
       "      <td>4.25</td>\n",
       "      <td>15362.0</td>\n",
       "      <td>United Kingdom</td>\n",
       "    </tr>\n",
       "    <tr>\n",
       "      <th>40</th>\n",
       "      <td>489437</td>\n",
       "      <td>37370</td>\n",
       "      <td>RETRO COFFEE MUGS ASSORTED</td>\n",
       "      <td>12</td>\n",
       "      <td>2009-12-01 09:08:00</td>\n",
       "      <td>1.25</td>\n",
       "      <td>15362.0</td>\n",
       "      <td>United Kingdom</td>\n",
       "    </tr>\n",
       "    <tr>\n",
       "      <th>41</th>\n",
       "      <td>489437</td>\n",
       "      <td>10002</td>\n",
       "      <td>INFLATABLE POLITICAL GLOBE</td>\n",
       "      <td>12</td>\n",
       "      <td>2009-12-01 09:08:00</td>\n",
       "      <td>0.85</td>\n",
       "      <td>15362.0</td>\n",
       "      <td>United Kingdom</td>\n",
       "    </tr>\n",
       "    <tr>\n",
       "      <th>42</th>\n",
       "      <td>489437</td>\n",
       "      <td>84507B</td>\n",
       "      <td>STRIPES DESIGN MONKEY DOLL</td>\n",
       "      <td>6</td>\n",
       "      <td>2009-12-01 09:08:00</td>\n",
       "      <td>2.55</td>\n",
       "      <td>15362.0</td>\n",
       "      <td>United Kingdom</td>\n",
       "    </tr>\n",
       "    <tr>\n",
       "      <th>43</th>\n",
       "      <td>489437</td>\n",
       "      <td>20703</td>\n",
       "      <td>BLUE PADDED SOFT MOBILE</td>\n",
       "      <td>3</td>\n",
       "      <td>2009-12-01 09:08:00</td>\n",
       "      <td>4.25</td>\n",
       "      <td>15362.0</td>\n",
       "      <td>United Kingdom</td>\n",
       "    </tr>\n",
       "    <tr>\n",
       "      <th>44</th>\n",
       "      <td>489437</td>\n",
       "      <td>21987</td>\n",
       "      <td>PACK OF 6 SKULL PAPER CUPS</td>\n",
       "      <td>12</td>\n",
       "      <td>2009-12-01 09:08:00</td>\n",
       "      <td>0.65</td>\n",
       "      <td>15362.0</td>\n",
       "      <td>United Kingdom</td>\n",
       "    </tr>\n",
       "    <tr>\n",
       "      <th>45</th>\n",
       "      <td>489437</td>\n",
       "      <td>21989</td>\n",
       "      <td>PACK OF 20 SKULL PAPER NAPKINS</td>\n",
       "      <td>12</td>\n",
       "      <td>2009-12-01 09:08:00</td>\n",
       "      <td>0.85</td>\n",
       "      <td>15362.0</td>\n",
       "      <td>United Kingdom</td>\n",
       "    </tr>\n",
       "    <tr>\n",
       "      <th>46</th>\n",
       "      <td>489437</td>\n",
       "      <td>84970S</td>\n",
       "      <td>HANGING HEART ZINC T-LIGHT HOLDER</td>\n",
       "      <td>12</td>\n",
       "      <td>2009-12-01 09:08:00</td>\n",
       "      <td>0.85</td>\n",
       "      <td>15362.0</td>\n",
       "      <td>United Kingdom</td>\n",
       "    </tr>\n",
       "    <tr>\n",
       "      <th>47</th>\n",
       "      <td>489437</td>\n",
       "      <td>20971</td>\n",
       "      <td>PINK BLUE FELT CRAFT TRINKET BOX</td>\n",
       "      <td>12</td>\n",
       "      <td>2009-12-01 09:08:00</td>\n",
       "      <td>1.25</td>\n",
       "      <td>15362.0</td>\n",
       "      <td>United Kingdom</td>\n",
       "    </tr>\n",
       "    <tr>\n",
       "      <th>48</th>\n",
       "      <td>489437</td>\n",
       "      <td>22271</td>\n",
       "      <td>FELTCRAFT DOLL ROSIE</td>\n",
       "      <td>6</td>\n",
       "      <td>2009-12-01 09:08:00</td>\n",
       "      <td>2.95</td>\n",
       "      <td>15362.0</td>\n",
       "      <td>United Kingdom</td>\n",
       "    </tr>\n",
       "    <tr>\n",
       "      <th>49</th>\n",
       "      <td>489437</td>\n",
       "      <td>22272</td>\n",
       "      <td>FELTCRAFT DOLL MARIA</td>\n",
       "      <td>6</td>\n",
       "      <td>2009-12-01 09:08:00</td>\n",
       "      <td>2.95</td>\n",
       "      <td>15362.0</td>\n",
       "      <td>United Kingdom</td>\n",
       "    </tr>\n",
       "    <tr>\n",
       "      <th>50</th>\n",
       "      <td>489437</td>\n",
       "      <td>22274</td>\n",
       "      <td>FELTCRAFT DOLL EMILY</td>\n",
       "      <td>6</td>\n",
       "      <td>2009-12-01 09:08:00</td>\n",
       "      <td>2.95</td>\n",
       "      <td>15362.0</td>\n",
       "      <td>United Kingdom</td>\n",
       "    </tr>\n",
       "    <tr>\n",
       "      <th>51</th>\n",
       "      <td>489437</td>\n",
       "      <td>21912</td>\n",
       "      <td>VINTAGE SNAKES &amp; LADDERS</td>\n",
       "      <td>4</td>\n",
       "      <td>2009-12-01 09:08:00</td>\n",
       "      <td>3.75</td>\n",
       "      <td>15362.0</td>\n",
       "      <td>United Kingdom</td>\n",
       "    </tr>\n",
       "    <tr>\n",
       "      <th>52</th>\n",
       "      <td>489437</td>\n",
       "      <td>22111</td>\n",
       "      <td>SCOTTIE DOG HOT WATER BOTTLE</td>\n",
       "      <td>3</td>\n",
       "      <td>2009-12-01 09:08:00</td>\n",
       "      <td>4.95</td>\n",
       "      <td>15362.0</td>\n",
       "      <td>United Kingdom</td>\n",
       "    </tr>\n",
       "    <tr>\n",
       "      <th>53</th>\n",
       "      <td>489437</td>\n",
       "      <td>22112</td>\n",
       "      <td>CHOCOLATE HOT WATER BOTTLE</td>\n",
       "      <td>3</td>\n",
       "      <td>2009-12-01 09:08:00</td>\n",
       "      <td>4.95</td>\n",
       "      <td>15362.0</td>\n",
       "      <td>United Kingdom</td>\n",
       "    </tr>\n",
       "    <tr>\n",
       "      <th>54</th>\n",
       "      <td>489438</td>\n",
       "      <td>21329</td>\n",
       "      <td>DINOSAURS  WRITING SET</td>\n",
       "      <td>28</td>\n",
       "      <td>2009-12-01 09:24:00</td>\n",
       "      <td>0.98</td>\n",
       "      <td>18102.0</td>\n",
       "      <td>United Kingdom</td>\n",
       "    </tr>\n",
       "    <tr>\n",
       "      <th>55</th>\n",
       "      <td>489438</td>\n",
       "      <td>21252</td>\n",
       "      <td>SET OF MEADOW  FLOWER STICKERS</td>\n",
       "      <td>30</td>\n",
       "      <td>2009-12-01 09:24:00</td>\n",
       "      <td>1.69</td>\n",
       "      <td>18102.0</td>\n",
       "      <td>United Kingdom</td>\n",
       "    </tr>\n",
       "    <tr>\n",
       "      <th>56</th>\n",
       "      <td>489438</td>\n",
       "      <td>21100</td>\n",
       "      <td>CHARLIE AND LOLA CHARLOTTE BAG</td>\n",
       "      <td>30</td>\n",
       "      <td>2009-12-01 09:24:00</td>\n",
       "      <td>1.15</td>\n",
       "      <td>18102.0</td>\n",
       "      <td>United Kingdom</td>\n",
       "    </tr>\n",
       "    <tr>\n",
       "      <th>57</th>\n",
       "      <td>489438</td>\n",
       "      <td>21033</td>\n",
       "      <td>JUMBO BAG CHARLIE AND LOLA TOYS</td>\n",
       "      <td>30</td>\n",
       "      <td>2009-12-01 09:24:00</td>\n",
       "      <td>2.00</td>\n",
       "      <td>18102.0</td>\n",
       "      <td>United Kingdom</td>\n",
       "    </tr>\n",
       "    <tr>\n",
       "      <th>58</th>\n",
       "      <td>489438</td>\n",
       "      <td>20711</td>\n",
       "      <td>JUMBO BAG TOYS</td>\n",
       "      <td>60</td>\n",
       "      <td>2009-12-01 09:24:00</td>\n",
       "      <td>1.30</td>\n",
       "      <td>18102.0</td>\n",
       "      <td>United Kingdom</td>\n",
       "    </tr>\n",
       "    <tr>\n",
       "      <th>59</th>\n",
       "      <td>489438</td>\n",
       "      <td>21410</td>\n",
       "      <td>COUNTRY COTTAGE  DOORSTOP GREEN</td>\n",
       "      <td>32</td>\n",
       "      <td>2009-12-01 09:24:00</td>\n",
       "      <td>2.50</td>\n",
       "      <td>18102.0</td>\n",
       "      <td>United Kingdom</td>\n",
       "    </tr>\n",
       "    <tr>\n",
       "      <th>60</th>\n",
       "      <td>489438</td>\n",
       "      <td>21411</td>\n",
       "      <td>GINGHAM HEART  DOORSTOP RED</td>\n",
       "      <td>32</td>\n",
       "      <td>2009-12-01 09:24:00</td>\n",
       "      <td>2.50</td>\n",
       "      <td>18102.0</td>\n",
       "      <td>United Kingdom</td>\n",
       "    </tr>\n",
       "    <tr>\n",
       "      <th>61</th>\n",
       "      <td>489438</td>\n",
       "      <td>84031A</td>\n",
       "      <td>CHARLIE+LOLA RED HOT WATER BOTTLE</td>\n",
       "      <td>56</td>\n",
       "      <td>2009-12-01 09:24:00</td>\n",
       "      <td>3.00</td>\n",
       "      <td>18102.0</td>\n",
       "      <td>United Kingdom</td>\n",
       "    </tr>\n",
       "    <tr>\n",
       "      <th>62</th>\n",
       "      <td>489438</td>\n",
       "      <td>84031B</td>\n",
       "      <td>CHARLIE LOLA BLUE HOT WATER BOTTLE</td>\n",
       "      <td>56</td>\n",
       "      <td>2009-12-01 09:24:00</td>\n",
       "      <td>3.00</td>\n",
       "      <td>18102.0</td>\n",
       "      <td>United Kingdom</td>\n",
       "    </tr>\n",
       "    <tr>\n",
       "      <th>63</th>\n",
       "      <td>489438</td>\n",
       "      <td>84032A</td>\n",
       "      <td>CHARLIE+LOLA PINK HOT WATER BOTTLE</td>\n",
       "      <td>60</td>\n",
       "      <td>2009-12-01 09:24:00</td>\n",
       "      <td>1.90</td>\n",
       "      <td>18102.0</td>\n",
       "      <td>United Kingdom</td>\n",
       "    </tr>\n",
       "    <tr>\n",
       "      <th>64</th>\n",
       "      <td>489438</td>\n",
       "      <td>84032B</td>\n",
       "      <td>CHARLIE + LOLA RED HOT WATER BOTTLE</td>\n",
       "      <td>56</td>\n",
       "      <td>2009-12-01 09:24:00</td>\n",
       "      <td>1.90</td>\n",
       "      <td>18102.0</td>\n",
       "      <td>United Kingdom</td>\n",
       "    </tr>\n",
       "    <tr>\n",
       "      <th>65</th>\n",
       "      <td>489438</td>\n",
       "      <td>84519A</td>\n",
       "      <td>TOMATO CHARLIE+LOLA COASTER SET</td>\n",
       "      <td>56</td>\n",
       "      <td>2009-12-01 09:24:00</td>\n",
       "      <td>2.15</td>\n",
       "      <td>18102.0</td>\n",
       "      <td>United Kingdom</td>\n",
       "    </tr>\n",
       "    <tr>\n",
       "      <th>66</th>\n",
       "      <td>489438</td>\n",
       "      <td>84519B</td>\n",
       "      <td>CARROT CHARLIE+LOLA COASTER SET</td>\n",
       "      <td>60</td>\n",
       "      <td>2009-12-01 09:24:00</td>\n",
       "      <td>2.40</td>\n",
       "      <td>18102.0</td>\n",
       "      <td>United Kingdom</td>\n",
       "    </tr>\n",
       "    <tr>\n",
       "      <th>67</th>\n",
       "      <td>489438</td>\n",
       "      <td>85132A</td>\n",
       "      <td>CHARLIE + LOLA BISCUITS TINS</td>\n",
       "      <td>60</td>\n",
       "      <td>2009-12-01 09:24:00</td>\n",
       "      <td>6.38</td>\n",
       "      <td>18102.0</td>\n",
       "      <td>United Kingdom</td>\n",
       "    </tr>\n",
       "    <tr>\n",
       "      <th>68</th>\n",
       "      <td>489438</td>\n",
       "      <td>85132C</td>\n",
       "      <td>CHARLIE AND LOLA FIGURES TINS</td>\n",
       "      <td>60</td>\n",
       "      <td>2009-12-01 09:24:00</td>\n",
       "      <td>6.40</td>\n",
       "      <td>18102.0</td>\n",
       "      <td>United Kingdom</td>\n",
       "    </tr>\n",
       "    <tr>\n",
       "      <th>69</th>\n",
       "      <td>489438</td>\n",
       "      <td>85183A</td>\n",
       "      <td>CHARLIE &amp; LOLA WASTEPAPER BIN BLUE</td>\n",
       "      <td>60</td>\n",
       "      <td>2009-12-01 09:24:00</td>\n",
       "      <td>2.40</td>\n",
       "      <td>18102.0</td>\n",
       "      <td>United Kingdom</td>\n",
       "    </tr>\n",
       "    <tr>\n",
       "      <th>70</th>\n",
       "      <td>489438</td>\n",
       "      <td>85183B</td>\n",
       "      <td>CHARLIE &amp; LOLA WASTEPAPER BIN FLORA</td>\n",
       "      <td>60</td>\n",
       "      <td>2009-12-01 09:24:00</td>\n",
       "      <td>2.40</td>\n",
       "      <td>18102.0</td>\n",
       "      <td>United Kingdom</td>\n",
       "    </tr>\n",
       "    <tr>\n",
       "      <th>71</th>\n",
       "      <td>489439</td>\n",
       "      <td>22065</td>\n",
       "      <td>CHRISTMAS PUDDING TRINKET POT</td>\n",
       "      <td>12</td>\n",
       "      <td>2009-12-01 09:28:00</td>\n",
       "      <td>1.45</td>\n",
       "      <td>12682.0</td>\n",
       "      <td>France</td>\n",
       "    </tr>\n",
       "    <tr>\n",
       "      <th>72</th>\n",
       "      <td>489439</td>\n",
       "      <td>22138</td>\n",
       "      <td>BAKING SET 9 PIECE RETROSPOT</td>\n",
       "      <td>9</td>\n",
       "      <td>2009-12-01 09:28:00</td>\n",
       "      <td>4.95</td>\n",
       "      <td>12682.0</td>\n",
       "      <td>France</td>\n",
       "    </tr>\n",
       "    <tr>\n",
       "      <th>73</th>\n",
       "      <td>489439</td>\n",
       "      <td>22139</td>\n",
       "      <td>RETRO SPOT TEA SET CERAMIC 11 PC</td>\n",
       "      <td>9</td>\n",
       "      <td>2009-12-01 09:28:00</td>\n",
       "      <td>4.95</td>\n",
       "      <td>12682.0</td>\n",
       "      <td>France</td>\n",
       "    </tr>\n",
       "    <tr>\n",
       "      <th>74</th>\n",
       "      <td>489439</td>\n",
       "      <td>22352</td>\n",
       "      <td>LUNCHBOX WITH CUTLERY RETROSPOT</td>\n",
       "      <td>12</td>\n",
       "      <td>2009-12-01 09:28:00</td>\n",
       "      <td>2.55</td>\n",
       "      <td>12682.0</td>\n",
       "      <td>France</td>\n",
       "    </tr>\n",
       "    <tr>\n",
       "      <th>75</th>\n",
       "      <td>489439</td>\n",
       "      <td>85014A</td>\n",
       "      <td>BLACK/BLUE DOTS RUFFLED UMBRELLA</td>\n",
       "      <td>3</td>\n",
       "      <td>2009-12-01 09:28:00</td>\n",
       "      <td>5.95</td>\n",
       "      <td>12682.0</td>\n",
       "      <td>France</td>\n",
       "    </tr>\n",
       "    <tr>\n",
       "      <th>76</th>\n",
       "      <td>489439</td>\n",
       "      <td>85014B</td>\n",
       "      <td>RED/WHITE DOTS RUFFLED UMBRELLA</td>\n",
       "      <td>3</td>\n",
       "      <td>2009-12-01 09:28:00</td>\n",
       "      <td>5.95</td>\n",
       "      <td>12682.0</td>\n",
       "      <td>France</td>\n",
       "    </tr>\n",
       "    <tr>\n",
       "      <th>77</th>\n",
       "      <td>489439</td>\n",
       "      <td>16161P</td>\n",
       "      <td>WRAP ENGLISH ROSE</td>\n",
       "      <td>25</td>\n",
       "      <td>2009-12-01 09:28:00</td>\n",
       "      <td>0.42</td>\n",
       "      <td>12682.0</td>\n",
       "      <td>France</td>\n",
       "    </tr>\n",
       "    <tr>\n",
       "      <th>78</th>\n",
       "      <td>489439</td>\n",
       "      <td>16169N</td>\n",
       "      <td>WRAP BLUE RUSSIAN FOLKART</td>\n",
       "      <td>25</td>\n",
       "      <td>2009-12-01 09:28:00</td>\n",
       "      <td>0.42</td>\n",
       "      <td>12682.0</td>\n",
       "      <td>France</td>\n",
       "    </tr>\n",
       "    <tr>\n",
       "      <th>79</th>\n",
       "      <td>489439</td>\n",
       "      <td>21491</td>\n",
       "      <td>SET OF THREE VINTAGE GIFT WRAPS</td>\n",
       "      <td>6</td>\n",
       "      <td>2009-12-01 09:28:00</td>\n",
       "      <td>1.95</td>\n",
       "      <td>12682.0</td>\n",
       "      <td>France</td>\n",
       "    </tr>\n",
       "    <tr>\n",
       "      <th>80</th>\n",
       "      <td>489439</td>\n",
       "      <td>22333</td>\n",
       "      <td>RETRO SPORT PARTY BAG + STICKER SET</td>\n",
       "      <td>8</td>\n",
       "      <td>2009-12-01 09:28:00</td>\n",
       "      <td>1.65</td>\n",
       "      <td>12682.0</td>\n",
       "      <td>France</td>\n",
       "    </tr>\n",
       "    <tr>\n",
       "      <th>81</th>\n",
       "      <td>489439</td>\n",
       "      <td>85216</td>\n",
       "      <td>ASSORTED CAKES FRIDGE MAGNETS</td>\n",
       "      <td>12</td>\n",
       "      <td>2009-12-01 09:28:00</td>\n",
       "      <td>0.65</td>\n",
       "      <td>12682.0</td>\n",
       "      <td>France</td>\n",
       "    </tr>\n",
       "    <tr>\n",
       "      <th>82</th>\n",
       "      <td>489439</td>\n",
       "      <td>21493</td>\n",
       "      <td>VINTAGE DESIGN GIFT TAGS</td>\n",
       "      <td>12</td>\n",
       "      <td>2009-12-01 09:28:00</td>\n",
       "      <td>0.85</td>\n",
       "      <td>12682.0</td>\n",
       "      <td>France</td>\n",
       "    </tr>\n",
       "    <tr>\n",
       "      <th>83</th>\n",
       "      <td>489439</td>\n",
       "      <td>22130</td>\n",
       "      <td>PARTY CONE CHRISTMAS DECORATION</td>\n",
       "      <td>24</td>\n",
       "      <td>2009-12-01 09:28:00</td>\n",
       "      <td>0.85</td>\n",
       "      <td>12682.0</td>\n",
       "      <td>France</td>\n",
       "    </tr>\n",
       "    <tr>\n",
       "      <th>84</th>\n",
       "      <td>489439</td>\n",
       "      <td>22064</td>\n",
       "      <td>PINK DOUGHNUT TRINKET POT</td>\n",
       "      <td>12</td>\n",
       "      <td>2009-12-01 09:28:00</td>\n",
       "      <td>1.65</td>\n",
       "      <td>12682.0</td>\n",
       "      <td>France</td>\n",
       "    </tr>\n",
       "    <tr>\n",
       "      <th>85</th>\n",
       "      <td>489439</td>\n",
       "      <td>21731</td>\n",
       "      <td>RED TOADSTOOL LED NIGHT LIGHT</td>\n",
       "      <td>24</td>\n",
       "      <td>2009-12-01 09:28:00</td>\n",
       "      <td>1.65</td>\n",
       "      <td>12682.0</td>\n",
       "      <td>France</td>\n",
       "    </tr>\n",
       "    <tr>\n",
       "      <th>86</th>\n",
       "      <td>489439</td>\n",
       "      <td>85232B</td>\n",
       "      <td>SET/3 RUSSIAN DOLL STACKING TINS</td>\n",
       "      <td>6</td>\n",
       "      <td>2009-12-01 09:28:00</td>\n",
       "      <td>4.95</td>\n",
       "      <td>12682.0</td>\n",
       "      <td>France</td>\n",
       "    </tr>\n",
       "    <tr>\n",
       "      <th>87</th>\n",
       "      <td>489439</td>\n",
       "      <td>84691</td>\n",
       "      <td>PACK 20 DOLLY PEGS</td>\n",
       "      <td>12</td>\n",
       "      <td>2009-12-01 09:28:00</td>\n",
       "      <td>0.85</td>\n",
       "      <td>12682.0</td>\n",
       "      <td>France</td>\n",
       "    </tr>\n",
       "    <tr>\n",
       "      <th>88</th>\n",
       "      <td>489439</td>\n",
       "      <td>20749</td>\n",
       "      <td>ASSORTED COLOUR MINI CASES</td>\n",
       "      <td>2</td>\n",
       "      <td>2009-12-01 09:28:00</td>\n",
       "      <td>7.95</td>\n",
       "      <td>12682.0</td>\n",
       "      <td>France</td>\n",
       "    </tr>\n",
       "    <tr>\n",
       "      <th>89</th>\n",
       "      <td>489439</td>\n",
       "      <td>POST</td>\n",
       "      <td>POSTAGE</td>\n",
       "      <td>3</td>\n",
       "      <td>2009-12-01 09:28:00</td>\n",
       "      <td>18.00</td>\n",
       "      <td>12682.0</td>\n",
       "      <td>France</td>\n",
       "    </tr>\n",
       "    <tr>\n",
       "      <th>90</th>\n",
       "      <td>489440</td>\n",
       "      <td>22350</td>\n",
       "      <td>CAT BOWL</td>\n",
       "      <td>8</td>\n",
       "      <td>2009-12-01 09:43:00</td>\n",
       "      <td>2.55</td>\n",
       "      <td>18087.0</td>\n",
       "      <td>United Kingdom</td>\n",
       "    </tr>\n",
       "    <tr>\n",
       "      <th>91</th>\n",
       "      <td>489440</td>\n",
       "      <td>22349</td>\n",
       "      <td>DOG BOWL , CHASING BALL DESIGN</td>\n",
       "      <td>8</td>\n",
       "      <td>2009-12-01 09:43:00</td>\n",
       "      <td>3.75</td>\n",
       "      <td>18087.0</td>\n",
       "      <td>United Kingdom</td>\n",
       "    </tr>\n",
       "    <tr>\n",
       "      <th>92</th>\n",
       "      <td>489441</td>\n",
       "      <td>22321</td>\n",
       "      <td>BIRD DECORATION RED SPOT</td>\n",
       "      <td>12</td>\n",
       "      <td>2009-12-01 09:44:00</td>\n",
       "      <td>0.72</td>\n",
       "      <td>18087.0</td>\n",
       "      <td>United Kingdom</td>\n",
       "    </tr>\n",
       "    <tr>\n",
       "      <th>93</th>\n",
       "      <td>489441</td>\n",
       "      <td>22138</td>\n",
       "      <td>BAKING SET 9 PIECE RETROSPOT</td>\n",
       "      <td>6</td>\n",
       "      <td>2009-12-01 09:44:00</td>\n",
       "      <td>4.25</td>\n",
       "      <td>18087.0</td>\n",
       "      <td>United Kingdom</td>\n",
       "    </tr>\n",
       "    <tr>\n",
       "      <th>94</th>\n",
       "      <td>489441</td>\n",
       "      <td>84029E</td>\n",
       "      <td>RED WOOLLY HOTTIE WHITE HEART.</td>\n",
       "      <td>36</td>\n",
       "      <td>2009-12-01 09:44:00</td>\n",
       "      <td>2.95</td>\n",
       "      <td>18087.0</td>\n",
       "      <td>United Kingdom</td>\n",
       "    </tr>\n",
       "    <tr>\n",
       "      <th>95</th>\n",
       "      <td>489441</td>\n",
       "      <td>22111</td>\n",
       "      <td>SCOTTIE DOG HOT WATER BOTTLE</td>\n",
       "      <td>48</td>\n",
       "      <td>2009-12-01 09:44:00</td>\n",
       "      <td>4.25</td>\n",
       "      <td>18087.0</td>\n",
       "      <td>United Kingdom</td>\n",
       "    </tr>\n",
       "    <tr>\n",
       "      <th>96</th>\n",
       "      <td>489442</td>\n",
       "      <td>21955</td>\n",
       "      <td>UNION JACK GUNS &amp; ROSES  DOORMAT</td>\n",
       "      <td>2</td>\n",
       "      <td>2009-12-01 09:46:00</td>\n",
       "      <td>6.75</td>\n",
       "      <td>13635.0</td>\n",
       "      <td>United Kingdom</td>\n",
       "    </tr>\n",
       "    <tr>\n",
       "      <th>97</th>\n",
       "      <td>489442</td>\n",
       "      <td>22111</td>\n",
       "      <td>SCOTTIE DOG HOT WATER BOTTLE</td>\n",
       "      <td>3</td>\n",
       "      <td>2009-12-01 09:46:00</td>\n",
       "      <td>4.95</td>\n",
       "      <td>13635.0</td>\n",
       "      <td>United Kingdom</td>\n",
       "    </tr>\n",
       "    <tr>\n",
       "      <th>98</th>\n",
       "      <td>489442</td>\n",
       "      <td>22296</td>\n",
       "      <td>HEART IVORY TRELLIS LARGE</td>\n",
       "      <td>12</td>\n",
       "      <td>2009-12-01 09:46:00</td>\n",
       "      <td>1.65</td>\n",
       "      <td>13635.0</td>\n",
       "      <td>United Kingdom</td>\n",
       "    </tr>\n",
       "    <tr>\n",
       "      <th>99</th>\n",
       "      <td>489442</td>\n",
       "      <td>84899E</td>\n",
       "      <td>YELLOW + BROWN BEAR FELT PURSE KIT</td>\n",
       "      <td>12</td>\n",
       "      <td>2009-12-01 09:46:00</td>\n",
       "      <td>1.25</td>\n",
       "      <td>13635.0</td>\n",
       "      <td>United Kingdom</td>\n",
       "    </tr>\n",
       "  </tbody>\n",
       "</table>\n",
       "</div>"
      ],
      "text/plain": [
       "   Invoice StockCode                          Description  Quantity  \\\n",
       "0   489434     85048  15CM CHRISTMAS GLASS BALL 20 LIGHTS        12   \n",
       "1   489434    79323P                   PINK CHERRY LIGHTS        12   \n",
       "2   489434    79323W                  WHITE CHERRY LIGHTS        12   \n",
       "3   489434     22041         RECORD FRAME 7\" SINGLE SIZE         48   \n",
       "4   489434     21232       STRAWBERRY CERAMIC TRINKET BOX        24   \n",
       "5   489434     22064           PINK DOUGHNUT TRINKET POT         24   \n",
       "6   489434     21871                  SAVE THE PLANET MUG        24   \n",
       "7   489434     21523   FANCY FONT HOME SWEET HOME DOORMAT        10   \n",
       "8   489435     22350                            CAT BOWL         12   \n",
       "9   489435     22349       DOG BOWL , CHASING BALL DESIGN        12   \n",
       "10  489435     22195         HEART MEASURING SPOONS LARGE        24   \n",
       "11  489435     22353   LUNCHBOX WITH CUTLERY FAIRY CAKES         12   \n",
       "12  489436    48173C                DOOR MAT BLACK FLOCK         10   \n",
       "13  489436     21755             LOVE BUILDING BLOCK WORD        18   \n",
       "14  489436     21754             HOME BUILDING BLOCK WORD         3   \n",
       "15  489436     84879        ASSORTED COLOUR BIRD ORNAMENT        16   \n",
       "16  489436     22119           PEACE WOODEN BLOCK LETTERS         3   \n",
       "17  489436     22142         CHRISTMAS CRAFT WHITE FAIRY         12   \n",
       "18  489436     22296            HEART IVORY TRELLIS LARGE        12   \n",
       "19  489436     22295            HEART FILIGREE DOVE LARGE        12   \n",
       "20  489436     22109         FULL ENGLISH BREAKFAST PLATE        16   \n",
       "21  489436     22107                   PIZZA PLATE IN BOX         4   \n",
       "22  489436     22194               BLACK DINER WALL CLOCK         2   \n",
       "23  489436    35004B          SET OF 3 BLACK FLYING DUCKS        12   \n",
       "24  489436     82582            AREA PATROLLED METAL SIGN        12   \n",
       "25  489436     21181        PLEASE ONE PERSON  METAL SIGN        12   \n",
       "26  489436     21756             BATH BUILDING BLOCK WORD         3   \n",
       "27  489436     21333                  CLASSIC WHITE FRAME         6   \n",
       "28  489436    84596F         SMALL MARSHMALLOWS PINK BOWL         8   \n",
       "29  489436    84596L       BISCUITS SMALL BOWL LIGHT BLUE         8   \n",
       "30  489436     22111         SCOTTIE DOG HOT WATER BOTTLE        24   \n",
       "31  489437     22143    CHRISTMAS CRAFT HEART DECORATIONS         6   \n",
       "32  489437     22145      CHRISTMAS CRAFT HEART STOCKING          6   \n",
       "33  489437     22130     PARTY CONE CHRISTMAS DECORATION         12   \n",
       "34  489437     21364             PEACE SMALL WOOD LETTERS         2   \n",
       "35  489437     21360               JOY LARGE WOOD LETTERS         1   \n",
       "36  489437     21351             CINAMMON & ORANGE WREATH         2   \n",
       "37  489437     21352        EUCALYPTUS & PINECONE  WREATH         2   \n",
       "38  489437     35400          WOODEN BOX ADVENT CALENDAR          2   \n",
       "39  489437     20695                  FLORAL BLUE MONSTER         3   \n",
       "40  489437     37370           RETRO COFFEE MUGS ASSORTED        12   \n",
       "41  489437     10002          INFLATABLE POLITICAL GLOBE         12   \n",
       "42  489437    84507B           STRIPES DESIGN MONKEY DOLL         6   \n",
       "43  489437     20703              BLUE PADDED SOFT MOBILE         3   \n",
       "44  489437     21987           PACK OF 6 SKULL PAPER CUPS        12   \n",
       "45  489437     21989       PACK OF 20 SKULL PAPER NAPKINS        12   \n",
       "46  489437    84970S    HANGING HEART ZINC T-LIGHT HOLDER        12   \n",
       "47  489437     20971     PINK BLUE FELT CRAFT TRINKET BOX        12   \n",
       "48  489437     22271                 FELTCRAFT DOLL ROSIE         6   \n",
       "49  489437     22272                 FELTCRAFT DOLL MARIA         6   \n",
       "50  489437     22274                 FELTCRAFT DOLL EMILY         6   \n",
       "51  489437     21912             VINTAGE SNAKES & LADDERS         4   \n",
       "52  489437     22111         SCOTTIE DOG HOT WATER BOTTLE         3   \n",
       "53  489437     22112           CHOCOLATE HOT WATER BOTTLE         3   \n",
       "54  489438     21329              DINOSAURS  WRITING SET         28   \n",
       "55  489438     21252       SET OF MEADOW  FLOWER STICKERS        30   \n",
       "56  489438     21100       CHARLIE AND LOLA CHARLOTTE BAG        30   \n",
       "57  489438     21033      JUMBO BAG CHARLIE AND LOLA TOYS        30   \n",
       "58  489438     20711                      JUMBO BAG TOYS         60   \n",
       "59  489438     21410      COUNTRY COTTAGE  DOORSTOP GREEN        32   \n",
       "60  489438     21411          GINGHAM HEART  DOORSTOP RED        32   \n",
       "61  489438    84031A   CHARLIE+LOLA RED HOT WATER BOTTLE         56   \n",
       "62  489438    84031B  CHARLIE LOLA BLUE HOT WATER BOTTLE         56   \n",
       "63  489438    84032A   CHARLIE+LOLA PINK HOT WATER BOTTLE        60   \n",
       "64  489438    84032B  CHARLIE + LOLA RED HOT WATER BOTTLE        56   \n",
       "65  489438    84519A      TOMATO CHARLIE+LOLA COASTER SET        56   \n",
       "66  489438    84519B      CARROT CHARLIE+LOLA COASTER SET        60   \n",
       "67  489438    85132A         CHARLIE + LOLA BISCUITS TINS        60   \n",
       "68  489438    85132C        CHARLIE AND LOLA FIGURES TINS        60   \n",
       "69  489438    85183A   CHARLIE & LOLA WASTEPAPER BIN BLUE        60   \n",
       "70  489438    85183B  CHARLIE & LOLA WASTEPAPER BIN FLORA        60   \n",
       "71  489439     22065       CHRISTMAS PUDDING TRINKET POT         12   \n",
       "72  489439     22138        BAKING SET 9 PIECE RETROSPOT          9   \n",
       "73  489439     22139    RETRO SPOT TEA SET CERAMIC 11 PC          9   \n",
       "74  489439     22352     LUNCHBOX WITH CUTLERY RETROSPOT         12   \n",
       "75  489439    85014A     BLACK/BLUE DOTS RUFFLED UMBRELLA         3   \n",
       "76  489439    85014B      RED/WHITE DOTS RUFFLED UMBRELLA         3   \n",
       "77  489439    16161P                   WRAP ENGLISH ROSE         25   \n",
       "78  489439    16169N            WRAP BLUE RUSSIAN FOLKART        25   \n",
       "79  489439     21491      SET OF THREE VINTAGE GIFT WRAPS         6   \n",
       "80  489439     22333  RETRO SPORT PARTY BAG + STICKER SET         8   \n",
       "81  489439     85216        ASSORTED CAKES FRIDGE MAGNETS        12   \n",
       "82  489439     21493             VINTAGE DESIGN GIFT TAGS        12   \n",
       "83  489439     22130     PARTY CONE CHRISTMAS DECORATION         24   \n",
       "84  489439     22064           PINK DOUGHNUT TRINKET POT         12   \n",
       "85  489439     21731        RED TOADSTOOL LED NIGHT LIGHT        24   \n",
       "86  489439    85232B     SET/3 RUSSIAN DOLL STACKING TINS         6   \n",
       "87  489439     84691                   PACK 20 DOLLY PEGS        12   \n",
       "88  489439     20749           ASSORTED COLOUR MINI CASES         2   \n",
       "89  489439      POST                              POSTAGE         3   \n",
       "90  489440     22350                            CAT BOWL          8   \n",
       "91  489440     22349       DOG BOWL , CHASING BALL DESIGN         8   \n",
       "92  489441     22321             BIRD DECORATION RED SPOT        12   \n",
       "93  489441     22138        BAKING SET 9 PIECE RETROSPOT          6   \n",
       "94  489441    84029E       RED WOOLLY HOTTIE WHITE HEART.        36   \n",
       "95  489441     22111         SCOTTIE DOG HOT WATER BOTTLE        48   \n",
       "96  489442     21955     UNION JACK GUNS & ROSES  DOORMAT         2   \n",
       "97  489442     22111         SCOTTIE DOG HOT WATER BOTTLE         3   \n",
       "98  489442     22296            HEART IVORY TRELLIS LARGE        12   \n",
       "99  489442    84899E   YELLOW + BROWN BEAR FELT PURSE KIT        12   \n",
       "\n",
       "           InvoiceDate  Price  Customer ID         Country  \n",
       "0  2009-12-01 07:45:00   6.95      13085.0  United Kingdom  \n",
       "1  2009-12-01 07:45:00   6.75      13085.0  United Kingdom  \n",
       "2  2009-12-01 07:45:00   6.75      13085.0  United Kingdom  \n",
       "3  2009-12-01 07:45:00   2.10      13085.0  United Kingdom  \n",
       "4  2009-12-01 07:45:00   1.25      13085.0  United Kingdom  \n",
       "5  2009-12-01 07:45:00   1.65      13085.0  United Kingdom  \n",
       "6  2009-12-01 07:45:00   1.25      13085.0  United Kingdom  \n",
       "7  2009-12-01 07:45:00   5.95      13085.0  United Kingdom  \n",
       "8  2009-12-01 07:46:00   2.55      13085.0  United Kingdom  \n",
       "9  2009-12-01 07:46:00   3.75      13085.0  United Kingdom  \n",
       "10 2009-12-01 07:46:00   1.65      13085.0  United Kingdom  \n",
       "11 2009-12-01 07:46:00   2.55      13085.0  United Kingdom  \n",
       "12 2009-12-01 09:06:00   5.95      13078.0  United Kingdom  \n",
       "13 2009-12-01 09:06:00   5.45      13078.0  United Kingdom  \n",
       "14 2009-12-01 09:06:00   5.95      13078.0  United Kingdom  \n",
       "15 2009-12-01 09:06:00   1.69      13078.0  United Kingdom  \n",
       "16 2009-12-01 09:06:00   6.95      13078.0  United Kingdom  \n",
       "17 2009-12-01 09:06:00   1.45      13078.0  United Kingdom  \n",
       "18 2009-12-01 09:06:00   1.65      13078.0  United Kingdom  \n",
       "19 2009-12-01 09:06:00   1.65      13078.0  United Kingdom  \n",
       "20 2009-12-01 09:06:00   3.39      13078.0  United Kingdom  \n",
       "21 2009-12-01 09:06:00   3.75      13078.0  United Kingdom  \n",
       "22 2009-12-01 09:06:00   8.50      13078.0  United Kingdom  \n",
       "23 2009-12-01 09:06:00   4.65      13078.0  United Kingdom  \n",
       "24 2009-12-01 09:06:00   2.10      13078.0  United Kingdom  \n",
       "25 2009-12-01 09:06:00   2.10      13078.0  United Kingdom  \n",
       "26 2009-12-01 09:06:00   5.95      13078.0  United Kingdom  \n",
       "27 2009-12-01 09:06:00   2.95      13078.0  United Kingdom  \n",
       "28 2009-12-01 09:06:00   1.25      13078.0  United Kingdom  \n",
       "29 2009-12-01 09:06:00   1.25      13078.0  United Kingdom  \n",
       "30 2009-12-01 09:06:00   4.25      13078.0  United Kingdom  \n",
       "31 2009-12-01 09:08:00   2.10      15362.0  United Kingdom  \n",
       "32 2009-12-01 09:08:00   2.10      15362.0  United Kingdom  \n",
       "33 2009-12-01 09:08:00   0.85      15362.0  United Kingdom  \n",
       "34 2009-12-01 09:08:00   6.75      15362.0  United Kingdom  \n",
       "35 2009-12-01 09:08:00   9.95      15362.0  United Kingdom  \n",
       "36 2009-12-01 09:08:00   6.75      15362.0  United Kingdom  \n",
       "37 2009-12-01 09:08:00   6.75      15362.0  United Kingdom  \n",
       "38 2009-12-01 09:08:00   8.95      15362.0  United Kingdom  \n",
       "39 2009-12-01 09:08:00   4.25      15362.0  United Kingdom  \n",
       "40 2009-12-01 09:08:00   1.25      15362.0  United Kingdom  \n",
       "41 2009-12-01 09:08:00   0.85      15362.0  United Kingdom  \n",
       "42 2009-12-01 09:08:00   2.55      15362.0  United Kingdom  \n",
       "43 2009-12-01 09:08:00   4.25      15362.0  United Kingdom  \n",
       "44 2009-12-01 09:08:00   0.65      15362.0  United Kingdom  \n",
       "45 2009-12-01 09:08:00   0.85      15362.0  United Kingdom  \n",
       "46 2009-12-01 09:08:00   0.85      15362.0  United Kingdom  \n",
       "47 2009-12-01 09:08:00   1.25      15362.0  United Kingdom  \n",
       "48 2009-12-01 09:08:00   2.95      15362.0  United Kingdom  \n",
       "49 2009-12-01 09:08:00   2.95      15362.0  United Kingdom  \n",
       "50 2009-12-01 09:08:00   2.95      15362.0  United Kingdom  \n",
       "51 2009-12-01 09:08:00   3.75      15362.0  United Kingdom  \n",
       "52 2009-12-01 09:08:00   4.95      15362.0  United Kingdom  \n",
       "53 2009-12-01 09:08:00   4.95      15362.0  United Kingdom  \n",
       "54 2009-12-01 09:24:00   0.98      18102.0  United Kingdom  \n",
       "55 2009-12-01 09:24:00   1.69      18102.0  United Kingdom  \n",
       "56 2009-12-01 09:24:00   1.15      18102.0  United Kingdom  \n",
       "57 2009-12-01 09:24:00   2.00      18102.0  United Kingdom  \n",
       "58 2009-12-01 09:24:00   1.30      18102.0  United Kingdom  \n",
       "59 2009-12-01 09:24:00   2.50      18102.0  United Kingdom  \n",
       "60 2009-12-01 09:24:00   2.50      18102.0  United Kingdom  \n",
       "61 2009-12-01 09:24:00   3.00      18102.0  United Kingdom  \n",
       "62 2009-12-01 09:24:00   3.00      18102.0  United Kingdom  \n",
       "63 2009-12-01 09:24:00   1.90      18102.0  United Kingdom  \n",
       "64 2009-12-01 09:24:00   1.90      18102.0  United Kingdom  \n",
       "65 2009-12-01 09:24:00   2.15      18102.0  United Kingdom  \n",
       "66 2009-12-01 09:24:00   2.40      18102.0  United Kingdom  \n",
       "67 2009-12-01 09:24:00   6.38      18102.0  United Kingdom  \n",
       "68 2009-12-01 09:24:00   6.40      18102.0  United Kingdom  \n",
       "69 2009-12-01 09:24:00   2.40      18102.0  United Kingdom  \n",
       "70 2009-12-01 09:24:00   2.40      18102.0  United Kingdom  \n",
       "71 2009-12-01 09:28:00   1.45      12682.0          France  \n",
       "72 2009-12-01 09:28:00   4.95      12682.0          France  \n",
       "73 2009-12-01 09:28:00   4.95      12682.0          France  \n",
       "74 2009-12-01 09:28:00   2.55      12682.0          France  \n",
       "75 2009-12-01 09:28:00   5.95      12682.0          France  \n",
       "76 2009-12-01 09:28:00   5.95      12682.0          France  \n",
       "77 2009-12-01 09:28:00   0.42      12682.0          France  \n",
       "78 2009-12-01 09:28:00   0.42      12682.0          France  \n",
       "79 2009-12-01 09:28:00   1.95      12682.0          France  \n",
       "80 2009-12-01 09:28:00   1.65      12682.0          France  \n",
       "81 2009-12-01 09:28:00   0.65      12682.0          France  \n",
       "82 2009-12-01 09:28:00   0.85      12682.0          France  \n",
       "83 2009-12-01 09:28:00   0.85      12682.0          France  \n",
       "84 2009-12-01 09:28:00   1.65      12682.0          France  \n",
       "85 2009-12-01 09:28:00   1.65      12682.0          France  \n",
       "86 2009-12-01 09:28:00   4.95      12682.0          France  \n",
       "87 2009-12-01 09:28:00   0.85      12682.0          France  \n",
       "88 2009-12-01 09:28:00   7.95      12682.0          France  \n",
       "89 2009-12-01 09:28:00  18.00      12682.0          France  \n",
       "90 2009-12-01 09:43:00   2.55      18087.0  United Kingdom  \n",
       "91 2009-12-01 09:43:00   3.75      18087.0  United Kingdom  \n",
       "92 2009-12-01 09:44:00   0.72      18087.0  United Kingdom  \n",
       "93 2009-12-01 09:44:00   4.25      18087.0  United Kingdom  \n",
       "94 2009-12-01 09:44:00   2.95      18087.0  United Kingdom  \n",
       "95 2009-12-01 09:44:00   4.25      18087.0  United Kingdom  \n",
       "96 2009-12-01 09:46:00   6.75      13635.0  United Kingdom  \n",
       "97 2009-12-01 09:46:00   4.95      13635.0  United Kingdom  \n",
       "98 2009-12-01 09:46:00   1.65      13635.0  United Kingdom  \n",
       "99 2009-12-01 09:46:00   1.25      13635.0  United Kingdom  "
      ]
     },
     "execution_count": 9,
     "metadata": {},
     "output_type": "execute_result"
    }
   ],
   "source": [
    "pd.set_option('display.max_rows', None)\n",
    "data_df.head(100)"
   ]
  },
  {
   "cell_type": "code",
   "execution_count": 12,
   "id": "751086b4",
   "metadata": {},
   "outputs": [
    {
     "data": {
      "text/plain": [
       "(1067371, 8)"
      ]
     },
     "execution_count": 12,
     "metadata": {},
     "output_type": "execute_result"
    }
   ],
   "source": [
    "data_df.shape"
   ]
  },
  {
   "cell_type": "code",
   "execution_count": 13,
   "id": "6c4c6b19",
   "metadata": {},
   "outputs": [
    {
     "data": {
      "text/html": [
       "<div>\n",
       "<style scoped>\n",
       "    .dataframe tbody tr th:only-of-type {\n",
       "        vertical-align: middle;\n",
       "    }\n",
       "\n",
       "    .dataframe tbody tr th {\n",
       "        vertical-align: top;\n",
       "    }\n",
       "\n",
       "    .dataframe thead th {\n",
       "        text-align: right;\n",
       "    }\n",
       "</style>\n",
       "<table border=\"1\" class=\"dataframe\">\n",
       "  <thead>\n",
       "    <tr style=\"text-align: right;\">\n",
       "      <th></th>\n",
       "      <th>Quantity</th>\n",
       "      <th>Price</th>\n",
       "      <th>Customer ID</th>\n",
       "    </tr>\n",
       "  </thead>\n",
       "  <tbody>\n",
       "    <tr>\n",
       "      <th>count</th>\n",
       "      <td>1.067371e+06</td>\n",
       "      <td>1.067371e+06</td>\n",
       "      <td>824364.000000</td>\n",
       "    </tr>\n",
       "    <tr>\n",
       "      <th>mean</th>\n",
       "      <td>9.938898e+00</td>\n",
       "      <td>4.649388e+00</td>\n",
       "      <td>15324.638504</td>\n",
       "    </tr>\n",
       "    <tr>\n",
       "      <th>std</th>\n",
       "      <td>1.727058e+02</td>\n",
       "      <td>1.235531e+02</td>\n",
       "      <td>1697.464450</td>\n",
       "    </tr>\n",
       "    <tr>\n",
       "      <th>min</th>\n",
       "      <td>-8.099500e+04</td>\n",
       "      <td>-5.359436e+04</td>\n",
       "      <td>12346.000000</td>\n",
       "    </tr>\n",
       "    <tr>\n",
       "      <th>25%</th>\n",
       "      <td>1.000000e+00</td>\n",
       "      <td>1.250000e+00</td>\n",
       "      <td>13975.000000</td>\n",
       "    </tr>\n",
       "    <tr>\n",
       "      <th>50%</th>\n",
       "      <td>3.000000e+00</td>\n",
       "      <td>2.100000e+00</td>\n",
       "      <td>15255.000000</td>\n",
       "    </tr>\n",
       "    <tr>\n",
       "      <th>75%</th>\n",
       "      <td>1.000000e+01</td>\n",
       "      <td>4.150000e+00</td>\n",
       "      <td>16797.000000</td>\n",
       "    </tr>\n",
       "    <tr>\n",
       "      <th>max</th>\n",
       "      <td>8.099500e+04</td>\n",
       "      <td>3.897000e+04</td>\n",
       "      <td>18287.000000</td>\n",
       "    </tr>\n",
       "  </tbody>\n",
       "</table>\n",
       "</div>"
      ],
      "text/plain": [
       "           Quantity         Price    Customer ID\n",
       "count  1.067371e+06  1.067371e+06  824364.000000\n",
       "mean   9.938898e+00  4.649388e+00   15324.638504\n",
       "std    1.727058e+02  1.235531e+02    1697.464450\n",
       "min   -8.099500e+04 -5.359436e+04   12346.000000\n",
       "25%    1.000000e+00  1.250000e+00   13975.000000\n",
       "50%    3.000000e+00  2.100000e+00   15255.000000\n",
       "75%    1.000000e+01  4.150000e+00   16797.000000\n",
       "max    8.099500e+04  3.897000e+04   18287.000000"
      ]
     },
     "execution_count": 13,
     "metadata": {},
     "output_type": "execute_result"
    }
   ],
   "source": [
    "data_df.describe()"
   ]
  },
  {
   "cell_type": "code",
   "execution_count": 14,
   "id": "53763ea1",
   "metadata": {},
   "outputs": [
    {
     "name": "stdout",
     "output_type": "stream",
     "text": [
      "<class 'pandas.core.frame.DataFrame'>\n",
      "Int64Index: 1067371 entries, 0 to 541909\n",
      "Data columns (total 8 columns):\n",
      " #   Column       Non-Null Count    Dtype         \n",
      "---  ------       --------------    -----         \n",
      " 0   Invoice      1067371 non-null  object        \n",
      " 1   StockCode    1067371 non-null  object        \n",
      " 2   Description  1062989 non-null  object        \n",
      " 3   Quantity     1067371 non-null  int64         \n",
      " 4   InvoiceDate  1067371 non-null  datetime64[ns]\n",
      " 5   Price        1067371 non-null  float64       \n",
      " 6   Customer ID  824364 non-null   float64       \n",
      " 7   Country      1067371 non-null  object        \n",
      "dtypes: datetime64[ns](1), float64(2), int64(1), object(4)\n",
      "memory usage: 73.3+ MB\n"
     ]
    }
   ],
   "source": [
    "data_df.info()"
   ]
  },
  {
   "cell_type": "code",
   "execution_count": 15,
   "id": "311f9105",
   "metadata": {},
   "outputs": [
    {
     "data": {
      "text/plain": [
       "Invoice             0\n",
       "StockCode           0\n",
       "Description      4382\n",
       "Quantity            0\n",
       "InvoiceDate         0\n",
       "Price               0\n",
       "Customer ID    243007\n",
       "Country             0\n",
       "dtype: int64"
      ]
     },
     "execution_count": 15,
     "metadata": {},
     "output_type": "execute_result"
    }
   ],
   "source": [
    "data_df.isnull().sum()"
   ]
  },
  {
   "cell_type": "markdown",
   "id": "c64ecb1e",
   "metadata": {},
   "source": [
    "Missing values are dropped as the dataset is large enough to carryout the required analysis."
   ]
  },
  {
   "cell_type": "code",
   "execution_count": 16,
   "id": "8f79f477",
   "metadata": {},
   "outputs": [],
   "source": [
    "data_df.dropna(inplace=True)"
   ]
  },
  {
   "cell_type": "code",
   "execution_count": 17,
   "id": "b3a830d2",
   "metadata": {},
   "outputs": [
    {
     "data": {
      "text/plain": [
       "Invoice        0\n",
       "StockCode      0\n",
       "Description    0\n",
       "Quantity       0\n",
       "InvoiceDate    0\n",
       "Price          0\n",
       "Customer ID    0\n",
       "Country        0\n",
       "dtype: int64"
      ]
     },
     "execution_count": 17,
     "metadata": {},
     "output_type": "execute_result"
    }
   ],
   "source": [
    "data_df.isnull().sum()"
   ]
  },
  {
   "cell_type": "markdown",
   "id": "2fc87c5a",
   "metadata": {},
   "source": [
    "As the dataset is large, it is sampled randomly to smaller size to be able to carryout the required analysis, as the computer is unable or takes too long to process the dataset."
   ]
  },
  {
   "cell_type": "code",
   "execution_count": 19,
   "id": "73e7fb0f",
   "metadata": {},
   "outputs": [],
   "source": [
    "sample_data = 50000  \n",
    "random_sample = data_df.sample(n=sample_data, random_state=42)"
   ]
  },
  {
   "cell_type": "code",
   "execution_count": 20,
   "id": "4cc8c874",
   "metadata": {},
   "outputs": [
    {
     "data": {
      "text/plain": [
       "(50000, 8)"
      ]
     },
     "execution_count": 20,
     "metadata": {},
     "output_type": "execute_result"
    }
   ],
   "source": [
    "random_sample.shape"
   ]
  },
  {
   "cell_type": "code",
   "execution_count": 23,
   "id": "33e4a4fe",
   "metadata": {},
   "outputs": [
    {
     "data": {
      "text/plain": [
       "4155"
      ]
     },
     "execution_count": 23,
     "metadata": {},
     "output_type": "execute_result"
    }
   ],
   "source": [
    "random_sample['Description'].nunique()"
   ]
  },
  {
   "cell_type": "code",
   "execution_count": null,
   "id": "e35c7c52",
   "metadata": {},
   "outputs": [],
   "source": [
    "random_sample['Description'].nunique()"
   ]
  },
  {
   "cell_type": "code",
   "execution_count": 24,
   "id": "170f1fd7",
   "metadata": {},
   "outputs": [
    {
     "data": {
      "text/plain": [
       "22368"
      ]
     },
     "execution_count": 24,
     "metadata": {},
     "output_type": "execute_result"
    }
   ],
   "source": [
    "random_sample['Invoice'].nunique()"
   ]
  },
  {
   "cell_type": "code",
   "execution_count": 25,
   "id": "c4cb7b10",
   "metadata": {},
   "outputs": [
    {
     "data": {
      "text/plain": [
       "3789"
      ]
     },
     "execution_count": 25,
     "metadata": {},
     "output_type": "execute_result"
    }
   ],
   "source": [
    "random_sample['StockCode'].nunique()"
   ]
  },
  {
   "cell_type": "code",
   "execution_count": 26,
   "id": "7d575742",
   "metadata": {},
   "outputs": [
    {
     "data": {
      "text/plain": [
       "208"
      ]
     },
     "execution_count": 26,
     "metadata": {},
     "output_type": "execute_result"
    }
   ],
   "source": [
    "random_sample['Quantity'].nunique()"
   ]
  },
  {
   "cell_type": "code",
   "execution_count": 27,
   "id": "b45a4fd3",
   "metadata": {},
   "outputs": [
    {
     "data": {
      "text/plain": [
       "21494"
      ]
     },
     "execution_count": 27,
     "metadata": {},
     "output_type": "execute_result"
    }
   ],
   "source": [
    "random_sample['InvoiceDate'].nunique()"
   ]
  },
  {
   "cell_type": "code",
   "execution_count": 28,
   "id": "bd55ab58",
   "metadata": {},
   "outputs": [
    {
     "data": {
      "text/plain": [
       "283"
      ]
     },
     "execution_count": 28,
     "metadata": {},
     "output_type": "execute_result"
    }
   ],
   "source": [
    "random_sample['Price'].nunique()"
   ]
  },
  {
   "cell_type": "code",
   "execution_count": 29,
   "id": "7295f58b",
   "metadata": {},
   "outputs": [
    {
     "data": {
      "text/plain": [
       "4877"
      ]
     },
     "execution_count": 29,
     "metadata": {},
     "output_type": "execute_result"
    }
   ],
   "source": [
    "random_sample['Customer ID'].nunique()"
   ]
  },
  {
   "cell_type": "code",
   "execution_count": 30,
   "id": "79066707",
   "metadata": {},
   "outputs": [
    {
     "data": {
      "text/plain": [
       "40"
      ]
     },
     "execution_count": 30,
     "metadata": {},
     "output_type": "execute_result"
    }
   ],
   "source": [
    "random_sample['Country'].nunique()"
   ]
  },
  {
   "cell_type": "code",
   "execution_count": 40,
   "id": "8d37b999",
   "metadata": {},
   "outputs": [],
   "source": [
    "from sklearn.pipeline import Pipeline\n",
    "from sklearn.preprocessing import FunctionTransformer\n",
    "from sklearn.feature_extraction.text import TfidfVectorizer\n",
    "from sklearn.decomposition import TruncatedSVD"
   ]
  },
  {
   "cell_type": "code",
   "execution_count": 41,
   "id": "aad0801c",
   "metadata": {},
   "outputs": [],
   "source": [
    "random_sample['InvoiceDate'] = pd.to_datetime(random_sample['InvoiceDate'])\n",
    "\n",
    "def extract_date_features(random_sample):\n",
    "    random_sample['Year'] = random_sample['InvoiceDate'].dt.year\n",
    "    random_sample['Month'] = random_sample['InvoiceDate'].dt.month\n",
    "    random_sample['Day'] = random_sample['InvoiceDate'].dt.day\n",
    "    random_sample['Hour'] = random_sample['InvoiceDate'].dt.hour\n",
    "    random_sample['Day of Week'] = random_sample['InvoiceDate'].dt.dayofweek\n",
    "    return random_sample[['Year', 'Month', 'Day', 'Hour', 'Day of Week']]"
   ]
  },
  {
   "cell_type": "code",
   "execution_count": 42,
   "id": "3f1cc589",
   "metadata": {},
   "outputs": [],
   "source": [
    "date_transformer = Pipeline(steps=[\n",
    "    ('extract', FunctionTransformer(extract_date_features)),\n",
    "    ('encoder', OneHotEncoder(handle_unknown='ignore'))\n",
    "])"
   ]
  },
  {
   "cell_type": "code",
   "execution_count": 43,
   "id": "02e3424e",
   "metadata": {},
   "outputs": [
    {
     "data": {
      "text/html": [
       "<div>\n",
       "<style scoped>\n",
       "    .dataframe tbody tr th:only-of-type {\n",
       "        vertical-align: middle;\n",
       "    }\n",
       "\n",
       "    .dataframe tbody tr th {\n",
       "        vertical-align: top;\n",
       "    }\n",
       "\n",
       "    .dataframe thead th {\n",
       "        text-align: right;\n",
       "    }\n",
       "</style>\n",
       "<table border=\"1\" class=\"dataframe\">\n",
       "  <thead>\n",
       "    <tr style=\"text-align: right;\">\n",
       "      <th></th>\n",
       "      <th>Invoice</th>\n",
       "      <th>StockCode</th>\n",
       "      <th>Description</th>\n",
       "      <th>Quantity</th>\n",
       "      <th>InvoiceDate</th>\n",
       "      <th>Price</th>\n",
       "      <th>Customer ID</th>\n",
       "      <th>Country</th>\n",
       "      <th>Year</th>\n",
       "      <th>Month</th>\n",
       "      <th>Day</th>\n",
       "      <th>Hour</th>\n",
       "      <th>Day of Week</th>\n",
       "    </tr>\n",
       "  </thead>\n",
       "  <tbody>\n",
       "    <tr>\n",
       "      <th>198038</th>\n",
       "      <td>554000</td>\n",
       "      <td>23281</td>\n",
       "      <td>FOLDING BUTTERFLY MIRROR RED</td>\n",
       "      <td>12</td>\n",
       "      <td>2011-05-20 11:53:00</td>\n",
       "      <td>0.83</td>\n",
       "      <td>14794.0</td>\n",
       "      <td>United Kingdom</td>\n",
       "      <td>2011</td>\n",
       "      <td>5</td>\n",
       "      <td>20</td>\n",
       "      <td>11</td>\n",
       "      <td>4</td>\n",
       "    </tr>\n",
       "    <tr>\n",
       "      <th>457037</th>\n",
       "      <td>575729</td>\n",
       "      <td>22406</td>\n",
       "      <td>MONEY BOX KINGS CHOICE DESIGN</td>\n",
       "      <td>12</td>\n",
       "      <td>2011-11-10 19:49:00</td>\n",
       "      <td>1.25</td>\n",
       "      <td>17932.0</td>\n",
       "      <td>United Kingdom</td>\n",
       "      <td>2011</td>\n",
       "      <td>11</td>\n",
       "      <td>10</td>\n",
       "      <td>19</td>\n",
       "      <td>3</td>\n",
       "    </tr>\n",
       "    <tr>\n",
       "      <th>236404</th>\n",
       "      <td>512286</td>\n",
       "      <td>22435</td>\n",
       "      <td>SET OF 9 HEART SHAPED BALLOONS</td>\n",
       "      <td>10</td>\n",
       "      <td>2010-06-14 14:27:00</td>\n",
       "      <td>1.25</td>\n",
       "      <td>15967.0</td>\n",
       "      <td>United Kingdom</td>\n",
       "      <td>2010</td>\n",
       "      <td>6</td>\n",
       "      <td>14</td>\n",
       "      <td>14</td>\n",
       "      <td>0</td>\n",
       "    </tr>\n",
       "    <tr>\n",
       "      <th>435239</th>\n",
       "      <td>530957</td>\n",
       "      <td>22800</td>\n",
       "      <td>ANTIQUE TALL SWIRLGLASS TRINKET POT</td>\n",
       "      <td>8</td>\n",
       "      <td>2010-11-04 18:53:00</td>\n",
       "      <td>3.75</td>\n",
       "      <td>17340.0</td>\n",
       "      <td>United Kingdom</td>\n",
       "      <td>2010</td>\n",
       "      <td>11</td>\n",
       "      <td>4</td>\n",
       "      <td>18</td>\n",
       "      <td>3</td>\n",
       "    </tr>\n",
       "    <tr>\n",
       "      <th>214547</th>\n",
       "      <td>555586</td>\n",
       "      <td>84212</td>\n",
       "      <td>ASSORTED FLOWER COLOUR \"LEIS\"</td>\n",
       "      <td>72</td>\n",
       "      <td>2011-06-06 09:12:00</td>\n",
       "      <td>0.65</td>\n",
       "      <td>14232.0</td>\n",
       "      <td>United Kingdom</td>\n",
       "      <td>2011</td>\n",
       "      <td>6</td>\n",
       "      <td>6</td>\n",
       "      <td>9</td>\n",
       "      <td>0</td>\n",
       "    </tr>\n",
       "  </tbody>\n",
       "</table>\n",
       "</div>"
      ],
      "text/plain": [
       "       Invoice StockCode                          Description  Quantity  \\\n",
       "198038  554000     23281       FOLDING BUTTERFLY MIRROR RED          12   \n",
       "457037  575729     22406        MONEY BOX KINGS CHOICE DESIGN        12   \n",
       "236404  512286     22435       SET OF 9 HEART SHAPED BALLOONS        10   \n",
       "435239  530957     22800  ANTIQUE TALL SWIRLGLASS TRINKET POT         8   \n",
       "214547  555586     84212        ASSORTED FLOWER COLOUR \"LEIS\"        72   \n",
       "\n",
       "               InvoiceDate  Price  Customer ID         Country  Year  Month  \\\n",
       "198038 2011-05-20 11:53:00   0.83      14794.0  United Kingdom  2011      5   \n",
       "457037 2011-11-10 19:49:00   1.25      17932.0  United Kingdom  2011     11   \n",
       "236404 2010-06-14 14:27:00   1.25      15967.0  United Kingdom  2010      6   \n",
       "435239 2010-11-04 18:53:00   3.75      17340.0  United Kingdom  2010     11   \n",
       "214547 2011-06-06 09:12:00   0.65      14232.0  United Kingdom  2011      6   \n",
       "\n",
       "        Day  Hour  Day of Week  \n",
       "198038   20    11            4  \n",
       "457037   10    19            3  \n",
       "236404   14    14            0  \n",
       "435239    4    18            3  \n",
       "214547    6     9            0  "
      ]
     },
     "execution_count": 43,
     "metadata": {},
     "output_type": "execute_result"
    }
   ],
   "source": [
    "random_sample.head()"
   ]
  },
  {
   "cell_type": "code",
   "execution_count": 44,
   "id": "599a7e84",
   "metadata": {},
   "outputs": [
    {
     "name": "stdout",
     "output_type": "stream",
     "text": [
      "<class 'pandas.core.frame.DataFrame'>\n",
      "Int64Index: 50000 entries, 198038 to 318746\n",
      "Data columns (total 13 columns):\n",
      " #   Column       Non-Null Count  Dtype         \n",
      "---  ------       --------------  -----         \n",
      " 0   Invoice      50000 non-null  object        \n",
      " 1   StockCode    50000 non-null  object        \n",
      " 2   Description  50000 non-null  object        \n",
      " 3   Quantity     50000 non-null  int64         \n",
      " 4   InvoiceDate  50000 non-null  datetime64[ns]\n",
      " 5   Price        50000 non-null  float64       \n",
      " 6   Customer ID  50000 non-null  float64       \n",
      " 7   Country      50000 non-null  object        \n",
      " 8   Year         50000 non-null  int64         \n",
      " 9   Month        50000 non-null  int64         \n",
      " 10  Day          50000 non-null  int64         \n",
      " 11  Hour         50000 non-null  int64         \n",
      " 12  Day of Week  50000 non-null  int64         \n",
      "dtypes: datetime64[ns](1), float64(2), int64(6), object(4)\n",
      "memory usage: 5.3+ MB\n"
     ]
    }
   ],
   "source": [
    "random_sample.info()"
   ]
  },
  {
   "cell_type": "code",
   "execution_count": 45,
   "id": "5a9c2a1f",
   "metadata": {},
   "outputs": [],
   "source": [
    "numeric_features = ['Quantity', 'Price']\n",
    "numeric_transformer = StandardScaler()"
   ]
  },
  {
   "cell_type": "code",
   "execution_count": 46,
   "id": "4b887b05",
   "metadata": {},
   "outputs": [],
   "source": [
    "categorical_features = ['Country']\n",
    "categorical_transformer = OneHotEncoder(handle_unknown='ignore')"
   ]
  },
  {
   "cell_type": "code",
   "execution_count": 47,
   "id": "4a2ca86f",
   "metadata": {},
   "outputs": [],
   "source": [
    "text_features = ['Description']\n",
    "text_transformer = Pipeline(steps=[\n",
    "    ('tfidf', TfidfVectorizer()),\n",
    "    ('svd', TruncatedSVD(n_components=50))  # Dimensionality reduction\n",
    "])"
   ]
  },
  {
   "cell_type": "code",
   "execution_count": 50,
   "id": "a526a5c1",
   "metadata": {},
   "outputs": [],
   "source": [
    "from sklearn.compose import ColumnTransformer\n"
   ]
  },
  {
   "cell_type": "code",
   "execution_count": 51,
   "id": "b93a512f",
   "metadata": {},
   "outputs": [],
   "source": [
    "preprocessor = ColumnTransformer(\n",
    "    transformers=[\n",
    "        ('num', numeric_transformer, numeric_features),\n",
    "        ('cat', categorical_transformer, categorical_features),\n",
    "        # ('text', text_transformer, text_features),\n",
    "        ('date', date_transformer, ['InvoiceDate'])\n",
    "])"
   ]
  },
  {
   "cell_type": "code",
   "execution_count": 52,
   "id": "b75e6986",
   "metadata": {},
   "outputs": [],
   "source": [
    "# Prepare full pipeline (without KMeans to determine the best number of clusters)\n",
    "pipeline = Pipeline(steps=[('preprocessor', preprocessor)])\n"
   ]
  },
  {
   "cell_type": "code",
   "execution_count": 53,
   "id": "e0f51ca4",
   "metadata": {},
   "outputs": [],
   "source": [
    "# Process the data\n",
    "processed_data = pipeline.fit_transform(random_sample)\n"
   ]
  },
  {
   "cell_type": "code",
   "execution_count": 54,
   "id": "23fd5ce2",
   "metadata": {},
   "outputs": [],
   "source": [
    "# Elbow method to determine the best number of clusters\n",
    "wcss = []\n",
    "for i in range(1, 11):  # Test 1 to 10 clusters\n",
    "    kmeans = KMeans(n_clusters=i, init='k-means++', max_iter=300, n_init=10, random_state=0)\n",
    "    kmeans.fit(processed_data)\n",
    "    wcss.append(kmeans.inertia_)"
   ]
  },
  {
   "cell_type": "code",
   "execution_count": 55,
   "id": "cc98efc7",
   "metadata": {},
   "outputs": [
    {
     "data": {
      "image/png": "[encoded data removed]",
      "text/plain": [
       "<Figure size 1000x800 with 1 Axes>"
      ]
     },
     "metadata": {},
     "output_type": "display_data"
    }
   ],
   "source": [
    "# Plotting the results onto a line graph to observe 'The Elbow'\n",
    "plt.figure(figsize=(10, 8))\n",
    "plt.plot(range(1, 11), wcss)\n",
    "plt.title('The Elbow Method')\n",
    "plt.xlabel('Number of clusters')\n",
    "plt.ylabel('WCSS')  # Within cluster sum of squares\n",
    "plt.show()"
   ]
  },
  {
   "cell_type": "code",
   "execution_count": 56,
   "id": "331c58ee",
   "metadata": {},
   "outputs": [],
   "source": [
    "## Based on the Elbow method, the best number of clusters is 4\n",
    "preprocessor = ColumnTransformer(\n",
    "    transformers=[\n",
    "        ('num', numeric_transformer, numeric_features),\n",
    "        ('cat', categorical_transformer, categorical_features),\n",
    "        # ('text', text_transformer, text_features),\n",
    "        ('date', date_transformer, ['InvoiceDate'])\n",
    "    ])"
   ]
  },
  {
   "cell_type": "code",
   "execution_count": 57,
   "id": "17c62c05",
   "metadata": {},
   "outputs": [],
   "source": [
    "# Clustering pipeline\n",
    "clf = Pipeline(steps=[\n",
    "    ('preprocessor', preprocessor),\n",
    "    ('cluster', KMeans(n_clusters=4))\n",
    "])\n"
   ]
  },
  {
   "cell_type": "code",
   "execution_count": 58,
   "id": "d50c92ce",
   "metadata": {},
   "outputs": [
    {
     "data": {
      "text/html": [
       "<style>#sk-container-id-1 {color: black;}#sk-container-id-1 pre{padding: 0;}#sk-container-id-1 div.sk-toggleable {background-color: white;}#sk-container-id-1 label.sk-toggleable__label {cursor: pointer;display: block;width: 100%;margin-bottom: 0;padding: 0.3em;box-sizing: border-box;text-align: center;}#sk-container-id-1 label.sk-toggleable__label-arrow:before {content: \"▸\";float: left;margin-right: 0.25em;color: #696969;}#sk-container-id-1 label.sk-toggleable__label-arrow:hover:before {color: black;}#sk-container-id-1 div.sk-estimator:hover label.sk-toggleable__label-arrow:before {color: black;}#sk-container-id-1 div.sk-toggleable__content {max-height: 0;max-width: 0;overflow: hidden;text-align: left;background-color: #f0f8ff;}#sk-container-id-1 div.sk-toggleable__content pre {margin: 0.2em;color: black;border-radius: 0.25em;background-color: #f0f8ff;}#sk-container-id-1 input.sk-toggleable__control:checked~div.sk-toggleable__content {max-height: 200px;max-width: 100%;overflow: auto;}#sk-container-id-1 input.sk-toggleable__control:checked~label.sk-toggleable__label-arrow:before {content: \"▾\";}#sk-container-id-1 div.sk-estimator input.sk-toggleable__control:checked~label.sk-toggleable__label {background-color: #d4ebff;}#sk-container-id-1 div.sk-label input.sk-toggleable__control:checked~label.sk-toggleable__label {background-color: #d4ebff;}#sk-container-id-1 input.sk-hidden--visually {border: 0;clip: rect(1px 1px 1px 1px);clip: rect(1px, 1px, 1px, 1px);height: 1px;margin: -1px;overflow: hidden;padding: 0;position: absolute;width: 1px;}#sk-container-id-1 div.sk-estimator {font-family: monospace;background-color: #f0f8ff;border: 1px dotted black;border-radius: 0.25em;box-sizing: border-box;margin-bottom: 0.5em;}#sk-container-id-1 div.sk-estimator:hover {background-color: #d4ebff;}#sk-container-id-1 div.sk-parallel-item::after {content: \"\";width: 100%;border-bottom: 1px solid gray;flex-grow: 1;}#sk-container-id-1 div.sk-label:hover label.sk-toggleable__label {background-color: #d4ebff;}#sk-container-id-1 div.sk-serial::before {content: \"\";position: absolute;border-left: 1px solid gray;box-sizing: border-box;top: 0;bottom: 0;left: 50%;z-index: 0;}#sk-container-id-1 div.sk-serial {display: flex;flex-direction: column;align-items: center;background-color: white;padding-right: 0.2em;padding-left: 0.2em;position: relative;}#sk-container-id-1 div.sk-item {position: relative;z-index: 1;}#sk-container-id-1 div.sk-parallel {display: flex;align-items: stretch;justify-content: center;background-color: white;position: relative;}#sk-container-id-1 div.sk-item::before, #sk-container-id-1 div.sk-parallel-item::before {content: \"\";position: absolute;border-left: 1px solid gray;box-sizing: border-box;top: 0;bottom: 0;left: 50%;z-index: -1;}#sk-container-id-1 div.sk-parallel-item {display: flex;flex-direction: column;z-index: 1;position: relative;background-color: white;}#sk-container-id-1 div.sk-parallel-item:first-child::after {align-self: flex-end;width: 50%;}#sk-container-id-1 div.sk-parallel-item:last-child::after {align-self: flex-start;width: 50%;}#sk-container-id-1 div.sk-parallel-item:only-child::after {width: 0;}#sk-container-id-1 div.sk-dashed-wrapped {border: 1px dashed gray;margin: 0 0.4em 0.5em 0.4em;box-sizing: border-box;padding-bottom: 0.4em;background-color: white;}#sk-container-id-1 div.sk-label label {font-family: monospace;font-weight: bold;display: inline-block;line-height: 1.2em;}#sk-container-id-1 div.sk-label-container {text-align: center;}#sk-container-id-1 div.sk-container {/* jupyter's `normalize.less` sets `[hidden] { display: none; }` but bootstrap.min.css set `[hidden] { display: none !important; }` so we also need the `!important` here to be able to override the default hidden behavior on the sphinx rendered scikit-learn.org. See: https://github.com/scikit-learn/scikit-learn/issues/21755 */display: inline-block !important;position: relative;}#sk-container-id-1 div.sk-text-repr-fallback {display: none;}</style><div id=\"sk-container-id-1\" class=\"sk-top-container\"><div class=\"sk-text-repr-fallback\"><pre>Pipeline(steps=[(&#x27;preprocessor&#x27;,\n",
       "                 ColumnTransformer(transformers=[(&#x27;num&#x27;, StandardScaler(),\n",
       "                                                  [&#x27;Quantity&#x27;, &#x27;Price&#x27;]),\n",
       "                                                 (&#x27;cat&#x27;,\n",
       "                                                  OneHotEncoder(handle_unknown=&#x27;ignore&#x27;),\n",
       "                                                  [&#x27;Country&#x27;]),\n",
       "                                                 (&#x27;date&#x27;,\n",
       "                                                  Pipeline(steps=[(&#x27;extract&#x27;,\n",
       "                                                                   FunctionTransformer(func=&lt;function extract_date_features at 0x140ca4180&gt;)),\n",
       "                                                                  (&#x27;encoder&#x27;,\n",
       "                                                                   OneHotEncoder(handle_unknown=&#x27;ignore&#x27;))]),\n",
       "                                                  [&#x27;InvoiceDate&#x27;])])),\n",
       "                (&#x27;cluster&#x27;, KMeans(n_clusters=4))])</pre><b>In a Jupyter environment, please rerun this cell to show the HTML representation or trust the notebook. <br />On GitHub, the HTML representation is unable to render, please try loading this page with nbviewer.org.</b></div><div class=\"sk-container\" hidden><div class=\"sk-item sk-dashed-wrapped\"><div class=\"sk-label-container\"><div class=\"sk-label sk-toggleable\"><input class=\"sk-toggleable__control sk-hidden--visually\" id=\"sk-estimator-id-1\" type=\"checkbox\" ><label for=\"sk-estimator-id-1\" class=\"sk-toggleable__label sk-toggleable__label-arrow\">Pipeline</label><div class=\"sk-toggleable__content\"><pre>Pipeline(steps=[(&#x27;preprocessor&#x27;,\n",
       "                 ColumnTransformer(transformers=[(&#x27;num&#x27;, StandardScaler(),\n",
       "                                                  [&#x27;Quantity&#x27;, &#x27;Price&#x27;]),\n",
       "                                                 (&#x27;cat&#x27;,\n",
       "                                                  OneHotEncoder(handle_unknown=&#x27;ignore&#x27;),\n",
       "                                                  [&#x27;Country&#x27;]),\n",
       "                                                 (&#x27;date&#x27;,\n",
       "                                                  Pipeline(steps=[(&#x27;extract&#x27;,\n",
       "                                                                   FunctionTransformer(func=&lt;function extract_date_features at 0x140ca4180&gt;)),\n",
       "                                                                  (&#x27;encoder&#x27;,\n",
       "                                                                   OneHotEncoder(handle_unknown=&#x27;ignore&#x27;))]),\n",
       "                                                  [&#x27;InvoiceDate&#x27;])])),\n",
       "                (&#x27;cluster&#x27;, KMeans(n_clusters=4))])</pre></div></div></div><div class=\"sk-serial\"><div class=\"sk-item sk-dashed-wrapped\"><div class=\"sk-label-container\"><div class=\"sk-label sk-toggleable\"><input class=\"sk-toggleable__control sk-hidden--visually\" id=\"sk-estimator-id-2\" type=\"checkbox\" ><label for=\"sk-estimator-id-2\" class=\"sk-toggleable__label sk-toggleable__label-arrow\">preprocessor: ColumnTransformer</label><div class=\"sk-toggleable__content\"><pre>ColumnTransformer(transformers=[(&#x27;num&#x27;, StandardScaler(),\n",
       "                                 [&#x27;Quantity&#x27;, &#x27;Price&#x27;]),\n",
       "                                (&#x27;cat&#x27;, OneHotEncoder(handle_unknown=&#x27;ignore&#x27;),\n",
       "                                 [&#x27;Country&#x27;]),\n",
       "                                (&#x27;date&#x27;,\n",
       "                                 Pipeline(steps=[(&#x27;extract&#x27;,\n",
       "                                                  FunctionTransformer(func=&lt;function extract_date_features at 0x140ca4180&gt;)),\n",
       "                                                 (&#x27;encoder&#x27;,\n",
       "                                                  OneHotEncoder(handle_unknown=&#x27;ignore&#x27;))]),\n",
       "                                 [&#x27;InvoiceDate&#x27;])])</pre></div></div></div><div class=\"sk-parallel\"><div class=\"sk-parallel-item\"><div class=\"sk-item\"><div class=\"sk-label-container\"><div class=\"sk-label sk-toggleable\"><input class=\"sk-toggleable__control sk-hidden--visually\" id=\"sk-estimator-id-3\" type=\"checkbox\" ><label for=\"sk-estimator-id-3\" class=\"sk-toggleable__label sk-toggleable__label-arrow\">num</label><div class=\"sk-toggleable__content\"><pre>[&#x27;Quantity&#x27;, &#x27;Price&#x27;]</pre></div></div></div><div class=\"sk-serial\"><div class=\"sk-item\"><div class=\"sk-estimator sk-toggleable\"><input class=\"sk-toggleable__control sk-hidden--visually\" id=\"sk-estimator-id-4\" type=\"checkbox\" ><label for=\"sk-estimator-id-4\" class=\"sk-toggleable__label sk-toggleable__label-arrow\">StandardScaler</label><div class=\"sk-toggleable__content\"><pre>StandardScaler()</pre></div></div></div></div></div></div><div class=\"sk-parallel-item\"><div class=\"sk-item\"><div class=\"sk-label-container\"><div class=\"sk-label sk-toggleable\"><input class=\"sk-toggleable__control sk-hidden--visually\" id=\"sk-estimator-id-5\" type=\"checkbox\" ><label for=\"sk-estimator-id-5\" class=\"sk-toggleable__label sk-toggleable__label-arrow\">cat</label><div class=\"sk-toggleable__content\"><pre>[&#x27;Country&#x27;]</pre></div></div></div><div class=\"sk-serial\"><div class=\"sk-item\"><div class=\"sk-estimator sk-toggleable\"><input class=\"sk-toggleable__control sk-hidden--visually\" id=\"sk-estimator-id-6\" type=\"checkbox\" ><label for=\"sk-estimator-id-6\" class=\"sk-toggleable__label sk-toggleable__label-arrow\">OneHotEncoder</label><div class=\"sk-toggleable__content\"><pre>OneHotEncoder(handle_unknown=&#x27;ignore&#x27;)</pre></div></div></div></div></div></div><div class=\"sk-parallel-item\"><div class=\"sk-item\"><div class=\"sk-label-container\"><div class=\"sk-label sk-toggleable\"><input class=\"sk-toggleable__control sk-hidden--visually\" id=\"sk-estimator-id-7\" type=\"checkbox\" ><label for=\"sk-estimator-id-7\" class=\"sk-toggleable__label sk-toggleable__label-arrow\">date</label><div class=\"sk-toggleable__content\"><pre>[&#x27;InvoiceDate&#x27;]</pre></div></div></div><div class=\"sk-serial\"><div class=\"sk-item\"><div class=\"sk-serial\"><div class=\"sk-item\"><div class=\"sk-estimator sk-toggleable\"><input class=\"sk-toggleable__control sk-hidden--visually\" id=\"sk-estimator-id-8\" type=\"checkbox\" ><label for=\"sk-estimator-id-8\" class=\"sk-toggleable__label sk-toggleable__label-arrow\">FunctionTransformer</label><div class=\"sk-toggleable__content\"><pre>FunctionTransformer(func=&lt;function extract_date_features at 0x140ca4180&gt;)</pre></div></div></div><div class=\"sk-item\"><div class=\"sk-estimator sk-toggleable\"><input class=\"sk-toggleable__control sk-hidden--visually\" id=\"sk-estimator-id-9\" type=\"checkbox\" ><label for=\"sk-estimator-id-9\" class=\"sk-toggleable__label sk-toggleable__label-arrow\">OneHotEncoder</label><div class=\"sk-toggleable__content\"><pre>OneHotEncoder(handle_unknown=&#x27;ignore&#x27;)</pre></div></div></div></div></div></div></div></div></div></div><div class=\"sk-item\"><div class=\"sk-estimator sk-toggleable\"><input class=\"sk-toggleable__control sk-hidden--visually\" id=\"sk-estimator-id-10\" type=\"checkbox\" ><label for=\"sk-estimator-id-10\" class=\"sk-toggleable__label sk-toggleable__label-arrow\">KMeans</label><div class=\"sk-toggleable__content\"><pre>KMeans(n_clusters=4)</pre></div></div></div></div></div></div></div>"
      ],
      "text/plain": [
       "Pipeline(steps=[('preprocessor',\n",
       "                 ColumnTransformer(transformers=[('num', StandardScaler(),\n",
       "                                                  ['Quantity', 'Price']),\n",
       "                                                 ('cat',\n",
       "                                                  OneHotEncoder(handle_unknown='ignore'),\n",
       "                                                  ['Country']),\n",
       "                                                 ('date',\n",
       "                                                  Pipeline(steps=[('extract',\n",
       "                                                                   FunctionTransformer(func=<function extract_date_features at 0x140ca4180>)),\n",
       "                                                                  ('encoder',\n",
       "                                                                   OneHotEncoder(handle_unknown='ignore'))]),\n",
       "                                                  ['InvoiceDate'])])),\n",
       "                ('cluster', KMeans(n_clusters=4))])"
      ]
     },
     "execution_count": 58,
     "metadata": {},
     "output_type": "execute_result"
    }
   ],
   "source": [
    "# Fit model\n",
    "clf.fit(random_sample)"
   ]
  },
  {
   "cell_type": "code",
   "execution_count": 59,
   "id": "4a320684",
   "metadata": {},
   "outputs": [],
   "source": [
    "# Predict clusters\n",
    "clusters = clf.predict(random_sample)"
   ]
  },
  {
   "cell_type": "code",
   "execution_count": 60,
   "id": "c21d2ff8",
   "metadata": {},
   "outputs": [],
   "source": [
    "# Add clusters back to the original DataFrame\n",
    "random_sample['Cluster'] = clusters"
   ]
  },
  {
   "cell_type": "code",
   "execution_count": 61,
   "id": "a8cdfef1",
   "metadata": {},
   "outputs": [
    {
     "data": {
      "text/html": [
       "<div>\n",
       "<style scoped>\n",
       "    .dataframe tbody tr th:only-of-type {\n",
       "        vertical-align: middle;\n",
       "    }\n",
       "\n",
       "    .dataframe tbody tr th {\n",
       "        vertical-align: top;\n",
       "    }\n",
       "\n",
       "    .dataframe thead th {\n",
       "        text-align: right;\n",
       "    }\n",
       "</style>\n",
       "<table border=\"1\" class=\"dataframe\">\n",
       "  <thead>\n",
       "    <tr style=\"text-align: right;\">\n",
       "      <th></th>\n",
       "      <th>Invoice</th>\n",
       "      <th>StockCode</th>\n",
       "      <th>Description</th>\n",
       "      <th>Quantity</th>\n",
       "      <th>InvoiceDate</th>\n",
       "      <th>Price</th>\n",
       "      <th>Customer ID</th>\n",
       "      <th>Country</th>\n",
       "      <th>Year</th>\n",
       "      <th>Month</th>\n",
       "      <th>Day</th>\n",
       "      <th>Hour</th>\n",
       "      <th>Day of Week</th>\n",
       "      <th>Cluster</th>\n",
       "    </tr>\n",
       "  </thead>\n",
       "  <tbody>\n",
       "    <tr>\n",
       "      <th>198038</th>\n",
       "      <td>554000</td>\n",
       "      <td>23281</td>\n",
       "      <td>FOLDING BUTTERFLY MIRROR RED</td>\n",
       "      <td>12</td>\n",
       "      <td>2011-05-20 11:53:00</td>\n",
       "      <td>0.83</td>\n",
       "      <td>14794.0</td>\n",
       "      <td>United Kingdom</td>\n",
       "      <td>2011</td>\n",
       "      <td>5</td>\n",
       "      <td>20</td>\n",
       "      <td>11</td>\n",
       "      <td>4</td>\n",
       "      <td>0</td>\n",
       "    </tr>\n",
       "    <tr>\n",
       "      <th>457037</th>\n",
       "      <td>575729</td>\n",
       "      <td>22406</td>\n",
       "      <td>MONEY BOX KINGS CHOICE DESIGN</td>\n",
       "      <td>12</td>\n",
       "      <td>2011-11-10 19:49:00</td>\n",
       "      <td>1.25</td>\n",
       "      <td>17932.0</td>\n",
       "      <td>United Kingdom</td>\n",
       "      <td>2011</td>\n",
       "      <td>11</td>\n",
       "      <td>10</td>\n",
       "      <td>19</td>\n",
       "      <td>3</td>\n",
       "      <td>0</td>\n",
       "    </tr>\n",
       "    <tr>\n",
       "      <th>236404</th>\n",
       "      <td>512286</td>\n",
       "      <td>22435</td>\n",
       "      <td>SET OF 9 HEART SHAPED BALLOONS</td>\n",
       "      <td>10</td>\n",
       "      <td>2010-06-14 14:27:00</td>\n",
       "      <td>1.25</td>\n",
       "      <td>15967.0</td>\n",
       "      <td>United Kingdom</td>\n",
       "      <td>2010</td>\n",
       "      <td>6</td>\n",
       "      <td>14</td>\n",
       "      <td>14</td>\n",
       "      <td>0</td>\n",
       "      <td>1</td>\n",
       "    </tr>\n",
       "    <tr>\n",
       "      <th>435239</th>\n",
       "      <td>530957</td>\n",
       "      <td>22800</td>\n",
       "      <td>ANTIQUE TALL SWIRLGLASS TRINKET POT</td>\n",
       "      <td>8</td>\n",
       "      <td>2010-11-04 18:53:00</td>\n",
       "      <td>3.75</td>\n",
       "      <td>17340.0</td>\n",
       "      <td>United Kingdom</td>\n",
       "      <td>2010</td>\n",
       "      <td>11</td>\n",
       "      <td>4</td>\n",
       "      <td>18</td>\n",
       "      <td>3</td>\n",
       "      <td>1</td>\n",
       "    </tr>\n",
       "    <tr>\n",
       "      <th>214547</th>\n",
       "      <td>555586</td>\n",
       "      <td>84212</td>\n",
       "      <td>ASSORTED FLOWER COLOUR \"LEIS\"</td>\n",
       "      <td>72</td>\n",
       "      <td>2011-06-06 09:12:00</td>\n",
       "      <td>0.65</td>\n",
       "      <td>14232.0</td>\n",
       "      <td>United Kingdom</td>\n",
       "      <td>2011</td>\n",
       "      <td>6</td>\n",
       "      <td>6</td>\n",
       "      <td>9</td>\n",
       "      <td>0</td>\n",
       "      <td>0</td>\n",
       "    </tr>\n",
       "  </tbody>\n",
       "</table>\n",
       "</div>"
      ],
      "text/plain": [
       "       Invoice StockCode                          Description  Quantity  \\\n",
       "198038  554000     23281       FOLDING BUTTERFLY MIRROR RED          12   \n",
       "457037  575729     22406        MONEY BOX KINGS CHOICE DESIGN        12   \n",
       "236404  512286     22435       SET OF 9 HEART SHAPED BALLOONS        10   \n",
       "435239  530957     22800  ANTIQUE TALL SWIRLGLASS TRINKET POT         8   \n",
       "214547  555586     84212        ASSORTED FLOWER COLOUR \"LEIS\"        72   \n",
       "\n",
       "               InvoiceDate  Price  Customer ID         Country  Year  Month  \\\n",
       "198038 2011-05-20 11:53:00   0.83      14794.0  United Kingdom  2011      5   \n",
       "457037 2011-11-10 19:49:00   1.25      17932.0  United Kingdom  2011     11   \n",
       "236404 2010-06-14 14:27:00   1.25      15967.0  United Kingdom  2010      6   \n",
       "435239 2010-11-04 18:53:00   3.75      17340.0  United Kingdom  2010     11   \n",
       "214547 2011-06-06 09:12:00   0.65      14232.0  United Kingdom  2011      6   \n",
       "\n",
       "        Day  Hour  Day of Week  Cluster  \n",
       "198038   20    11            4        0  \n",
       "457037   10    19            3        0  \n",
       "236404   14    14            0        1  \n",
       "435239    4    18            3        1  \n",
       "214547    6     9            0        0  "
      ]
     },
     "execution_count": 61,
     "metadata": {},
     "output_type": "execute_result"
    }
   ],
   "source": [
    "random_sample.head()"
   ]
  },
  {
   "cell_type": "code",
   "execution_count": 63,
   "id": "35e06d41",
   "metadata": {},
   "outputs": [],
   "source": [
    "from sklearn.decomposition import PCA\n"
   ]
  },
  {
   "cell_type": "code",
   "execution_count": 64,
   "id": "8e2502c0",
   "metadata": {},
   "outputs": [
    {
     "data": {
      "text/html": [
       "<style>#sk-container-id-2 {color: black;}#sk-container-id-2 pre{padding: 0;}#sk-container-id-2 div.sk-toggleable {background-color: white;}#sk-container-id-2 label.sk-toggleable__label {cursor: pointer;display: block;width: 100%;margin-bottom: 0;padding: 0.3em;box-sizing: border-box;text-align: center;}#sk-container-id-2 label.sk-toggleable__label-arrow:before {content: \"▸\";float: left;margin-right: 0.25em;color: #696969;}#sk-container-id-2 label.sk-toggleable__label-arrow:hover:before {color: black;}#sk-container-id-2 div.sk-estimator:hover label.sk-toggleable__label-arrow:before {color: black;}#sk-container-id-2 div.sk-toggleable__content {max-height: 0;max-width: 0;overflow: hidden;text-align: left;background-color: #f0f8ff;}#sk-container-id-2 div.sk-toggleable__content pre {margin: 0.2em;color: black;border-radius: 0.25em;background-color: #f0f8ff;}#sk-container-id-2 input.sk-toggleable__control:checked~div.sk-toggleable__content {max-height: 200px;max-width: 100%;overflow: auto;}#sk-container-id-2 input.sk-toggleable__control:checked~label.sk-toggleable__label-arrow:before {content: \"▾\";}#sk-container-id-2 div.sk-estimator input.sk-toggleable__control:checked~label.sk-toggleable__label {background-color: #d4ebff;}#sk-container-id-2 div.sk-label input.sk-toggleable__control:checked~label.sk-toggleable__label {background-color: #d4ebff;}#sk-container-id-2 input.sk-hidden--visually {border: 0;clip: rect(1px 1px 1px 1px);clip: rect(1px, 1px, 1px, 1px);height: 1px;margin: -1px;overflow: hidden;padding: 0;position: absolute;width: 1px;}#sk-container-id-2 div.sk-estimator {font-family: monospace;background-color: #f0f8ff;border: 1px dotted black;border-radius: 0.25em;box-sizing: border-box;margin-bottom: 0.5em;}#sk-container-id-2 div.sk-estimator:hover {background-color: #d4ebff;}#sk-container-id-2 div.sk-parallel-item::after {content: \"\";width: 100%;border-bottom: 1px solid gray;flex-grow: 1;}#sk-container-id-2 div.sk-label:hover label.sk-toggleable__label {background-color: #d4ebff;}#sk-container-id-2 div.sk-serial::before {content: \"\";position: absolute;border-left: 1px solid gray;box-sizing: border-box;top: 0;bottom: 0;left: 50%;z-index: 0;}#sk-container-id-2 div.sk-serial {display: flex;flex-direction: column;align-items: center;background-color: white;padding-right: 0.2em;padding-left: 0.2em;position: relative;}#sk-container-id-2 div.sk-item {position: relative;z-index: 1;}#sk-container-id-2 div.sk-parallel {display: flex;align-items: stretch;justify-content: center;background-color: white;position: relative;}#sk-container-id-2 div.sk-item::before, #sk-container-id-2 div.sk-parallel-item::before {content: \"\";position: absolute;border-left: 1px solid gray;box-sizing: border-box;top: 0;bottom: 0;left: 50%;z-index: -1;}#sk-container-id-2 div.sk-parallel-item {display: flex;flex-direction: column;z-index: 1;position: relative;background-color: white;}#sk-container-id-2 div.sk-parallel-item:first-child::after {align-self: flex-end;width: 50%;}#sk-container-id-2 div.sk-parallel-item:last-child::after {align-self: flex-start;width: 50%;}#sk-container-id-2 div.sk-parallel-item:only-child::after {width: 0;}#sk-container-id-2 div.sk-dashed-wrapped {border: 1px dashed gray;margin: 0 0.4em 0.5em 0.4em;box-sizing: border-box;padding-bottom: 0.4em;background-color: white;}#sk-container-id-2 div.sk-label label {font-family: monospace;font-weight: bold;display: inline-block;line-height: 1.2em;}#sk-container-id-2 div.sk-label-container {text-align: center;}#sk-container-id-2 div.sk-container {/* jupyter's `normalize.less` sets `[hidden] { display: none; }` but bootstrap.min.css set `[hidden] { display: none !important; }` so we also need the `!important` here to be able to override the default hidden behavior on the sphinx rendered scikit-learn.org. See: https://github.com/scikit-learn/scikit-learn/issues/21755 */display: inline-block !important;position: relative;}#sk-container-id-2 div.sk-text-repr-fallback {display: none;}</style><div id=\"sk-container-id-2\" class=\"sk-top-container\"><div class=\"sk-text-repr-fallback\"><pre>Pipeline(steps=[(&#x27;preprocessor&#x27;,\n",
       "                 ColumnTransformer(transformers=[(&#x27;num&#x27;, StandardScaler(),\n",
       "                                                  [&#x27;Quantity&#x27;, &#x27;Price&#x27;]),\n",
       "                                                 (&#x27;cat&#x27;,\n",
       "                                                  OneHotEncoder(handle_unknown=&#x27;ignore&#x27;),\n",
       "                                                  [&#x27;Country&#x27;]),\n",
       "                                                 (&#x27;date&#x27;,\n",
       "                                                  Pipeline(steps=[(&#x27;extract&#x27;,\n",
       "                                                                   FunctionTransformer(func=&lt;function extract_date_features at 0x140ca4180&gt;)),\n",
       "                                                                  (&#x27;encoder&#x27;,\n",
       "                                                                   OneHotEncoder(handle_unknown=&#x27;ignore&#x27;))]),\n",
       "                                                  [&#x27;InvoiceDate&#x27;])])),\n",
       "                (&#x27;cluster&#x27;, KMeans(n_clusters=4))])</pre><b>In a Jupyter environment, please rerun this cell to show the HTML representation or trust the notebook. <br />On GitHub, the HTML representation is unable to render, please try loading this page with nbviewer.org.</b></div><div class=\"sk-container\" hidden><div class=\"sk-item sk-dashed-wrapped\"><div class=\"sk-label-container\"><div class=\"sk-label sk-toggleable\"><input class=\"sk-toggleable__control sk-hidden--visually\" id=\"sk-estimator-id-11\" type=\"checkbox\" ><label for=\"sk-estimator-id-11\" class=\"sk-toggleable__label sk-toggleable__label-arrow\">Pipeline</label><div class=\"sk-toggleable__content\"><pre>Pipeline(steps=[(&#x27;preprocessor&#x27;,\n",
       "                 ColumnTransformer(transformers=[(&#x27;num&#x27;, StandardScaler(),\n",
       "                                                  [&#x27;Quantity&#x27;, &#x27;Price&#x27;]),\n",
       "                                                 (&#x27;cat&#x27;,\n",
       "                                                  OneHotEncoder(handle_unknown=&#x27;ignore&#x27;),\n",
       "                                                  [&#x27;Country&#x27;]),\n",
       "                                                 (&#x27;date&#x27;,\n",
       "                                                  Pipeline(steps=[(&#x27;extract&#x27;,\n",
       "                                                                   FunctionTransformer(func=&lt;function extract_date_features at 0x140ca4180&gt;)),\n",
       "                                                                  (&#x27;encoder&#x27;,\n",
       "                                                                   OneHotEncoder(handle_unknown=&#x27;ignore&#x27;))]),\n",
       "                                                  [&#x27;InvoiceDate&#x27;])])),\n",
       "                (&#x27;cluster&#x27;, KMeans(n_clusters=4))])</pre></div></div></div><div class=\"sk-serial\"><div class=\"sk-item sk-dashed-wrapped\"><div class=\"sk-label-container\"><div class=\"sk-label sk-toggleable\"><input class=\"sk-toggleable__control sk-hidden--visually\" id=\"sk-estimator-id-12\" type=\"checkbox\" ><label for=\"sk-estimator-id-12\" class=\"sk-toggleable__label sk-toggleable__label-arrow\">preprocessor: ColumnTransformer</label><div class=\"sk-toggleable__content\"><pre>ColumnTransformer(transformers=[(&#x27;num&#x27;, StandardScaler(),\n",
       "                                 [&#x27;Quantity&#x27;, &#x27;Price&#x27;]),\n",
       "                                (&#x27;cat&#x27;, OneHotEncoder(handle_unknown=&#x27;ignore&#x27;),\n",
       "                                 [&#x27;Country&#x27;]),\n",
       "                                (&#x27;date&#x27;,\n",
       "                                 Pipeline(steps=[(&#x27;extract&#x27;,\n",
       "                                                  FunctionTransformer(func=&lt;function extract_date_features at 0x140ca4180&gt;)),\n",
       "                                                 (&#x27;encoder&#x27;,\n",
       "                                                  OneHotEncoder(handle_unknown=&#x27;ignore&#x27;))]),\n",
       "                                 [&#x27;InvoiceDate&#x27;])])</pre></div></div></div><div class=\"sk-parallel\"><div class=\"sk-parallel-item\"><div class=\"sk-item\"><div class=\"sk-label-container\"><div class=\"sk-label sk-toggleable\"><input class=\"sk-toggleable__control sk-hidden--visually\" id=\"sk-estimator-id-13\" type=\"checkbox\" ><label for=\"sk-estimator-id-13\" class=\"sk-toggleable__label sk-toggleable__label-arrow\">num</label><div class=\"sk-toggleable__content\"><pre>[&#x27;Quantity&#x27;, &#x27;Price&#x27;]</pre></div></div></div><div class=\"sk-serial\"><div class=\"sk-item\"><div class=\"sk-estimator sk-toggleable\"><input class=\"sk-toggleable__control sk-hidden--visually\" id=\"sk-estimator-id-14\" type=\"checkbox\" ><label for=\"sk-estimator-id-14\" class=\"sk-toggleable__label sk-toggleable__label-arrow\">StandardScaler</label><div class=\"sk-toggleable__content\"><pre>StandardScaler()</pre></div></div></div></div></div></div><div class=\"sk-parallel-item\"><div class=\"sk-item\"><div class=\"sk-label-container\"><div class=\"sk-label sk-toggleable\"><input class=\"sk-toggleable__control sk-hidden--visually\" id=\"sk-estimator-id-15\" type=\"checkbox\" ><label for=\"sk-estimator-id-15\" class=\"sk-toggleable__label sk-toggleable__label-arrow\">cat</label><div class=\"sk-toggleable__content\"><pre>[&#x27;Country&#x27;]</pre></div></div></div><div class=\"sk-serial\"><div class=\"sk-item\"><div class=\"sk-estimator sk-toggleable\"><input class=\"sk-toggleable__control sk-hidden--visually\" id=\"sk-estimator-id-16\" type=\"checkbox\" ><label for=\"sk-estimator-id-16\" class=\"sk-toggleable__label sk-toggleable__label-arrow\">OneHotEncoder</label><div class=\"sk-toggleable__content\"><pre>OneHotEncoder(handle_unknown=&#x27;ignore&#x27;)</pre></div></div></div></div></div></div><div class=\"sk-parallel-item\"><div class=\"sk-item\"><div class=\"sk-label-container\"><div class=\"sk-label sk-toggleable\"><input class=\"sk-toggleable__control sk-hidden--visually\" id=\"sk-estimator-id-17\" type=\"checkbox\" ><label for=\"sk-estimator-id-17\" class=\"sk-toggleable__label sk-toggleable__label-arrow\">date</label><div class=\"sk-toggleable__content\"><pre>[&#x27;InvoiceDate&#x27;]</pre></div></div></div><div class=\"sk-serial\"><div class=\"sk-item\"><div class=\"sk-serial\"><div class=\"sk-item\"><div class=\"sk-estimator sk-toggleable\"><input class=\"sk-toggleable__control sk-hidden--visually\" id=\"sk-estimator-id-18\" type=\"checkbox\" ><label for=\"sk-estimator-id-18\" class=\"sk-toggleable__label sk-toggleable__label-arrow\">FunctionTransformer</label><div class=\"sk-toggleable__content\"><pre>FunctionTransformer(func=&lt;function extract_date_features at 0x140ca4180&gt;)</pre></div></div></div><div class=\"sk-item\"><div class=\"sk-estimator sk-toggleable\"><input class=\"sk-toggleable__control sk-hidden--visually\" id=\"sk-estimator-id-19\" type=\"checkbox\" ><label for=\"sk-estimator-id-19\" class=\"sk-toggleable__label sk-toggleable__label-arrow\">OneHotEncoder</label><div class=\"sk-toggleable__content\"><pre>OneHotEncoder(handle_unknown=&#x27;ignore&#x27;)</pre></div></div></div></div></div></div></div></div></div></div><div class=\"sk-item\"><div class=\"sk-estimator sk-toggleable\"><input class=\"sk-toggleable__control sk-hidden--visually\" id=\"sk-estimator-id-20\" type=\"checkbox\" ><label for=\"sk-estimator-id-20\" class=\"sk-toggleable__label sk-toggleable__label-arrow\">KMeans</label><div class=\"sk-toggleable__content\"><pre>KMeans(n_clusters=4)</pre></div></div></div></div></div></div></div>"
      ],
      "text/plain": [
       "Pipeline(steps=[('preprocessor',\n",
       "                 ColumnTransformer(transformers=[('num', StandardScaler(),\n",
       "                                                  ['Quantity', 'Price']),\n",
       "                                                 ('cat',\n",
       "                                                  OneHotEncoder(handle_unknown='ignore'),\n",
       "                                                  ['Country']),\n",
       "                                                 ('date',\n",
       "                                                  Pipeline(steps=[('extract',\n",
       "                                                                   FunctionTransformer(func=<function extract_date_features at 0x140ca4180>)),\n",
       "                                                                  ('encoder',\n",
       "                                                                   OneHotEncoder(handle_unknown='ignore'))]),\n",
       "                                                  ['InvoiceDate'])])),\n",
       "                ('cluster', KMeans(n_clusters=4))])"
      ]
     },
     "execution_count": 64,
     "metadata": {},
     "output_type": "execute_result"
    }
   ],
   "source": [
    "clf.fit(random_sample)\n"
   ]
  },
  {
   "cell_type": "code",
   "execution_count": 65,
   "id": "102a9593",
   "metadata": {},
   "outputs": [],
   "source": [
    "X_transformed = clf.named_steps['preprocessor'].transform(random_sample)\n"
   ]
  },
  {
   "cell_type": "code",
   "execution_count": 67,
   "id": "846df0d1",
   "metadata": {},
   "outputs": [],
   "source": [
    "svd = TruncatedSVD(n_components=2)\n",
    "X_svd = svd.fit_transform(X_transformed)"
   ]
  },
  {
   "cell_type": "code",
   "execution_count": 68,
   "id": "4700bc84",
   "metadata": {},
   "outputs": [],
   "source": [
    "labels = clf.named_steps['cluster'].labels_\n"
   ]
  },
  {
   "cell_type": "code",
   "execution_count": 69,
   "id": "e2e6190f",
   "metadata": {},
   "outputs": [
    {
     "data": {
      "image/png": "[encoded data removed]",
      "text/plain": [
       "<Figure size 640x480 with 2 Axes>"
      ]
     },
     "metadata": {},
     "output_type": "display_data"
    }
   ],
   "source": [
    "plt.scatter(X_svd[:, 0], X_svd[:, 1], c=labels, cmap='viridis')\n",
    "plt.xlabel('Component 1')\n",
    "plt.ylabel('Component 2')\n",
    "plt.title('KMeans Clustering')\n",
    "plt.colorbar(label='Cluster')\n",
    "plt.show()"
   ]
  },
  {
   "cell_type": "code",
   "execution_count": null,
   "id": "1971f895",
   "metadata": {},
   "outputs": [],
   "source": []
  },
  {
   "cell_type": "code",
   "execution_count": 66,
   "id": "48d2b987",
   "metadata": {},
   "outputs": [
    {
     "ename": "TypeError",
     "evalue": "PCA does not support sparse input. See TruncatedSVD for a possible alternative.",
     "output_type": "error",
     "traceback": [
      "\u001b[0;31m---------------------------------------------------------------------------\u001b[0m",
      "\u001b[0;31mTypeError\u001b[0m                                 Traceback (most recent call last)",
      "Cell \u001b[0;32mIn[66], line 2\u001b[0m\n\u001b[1;32m      1\u001b[0m pca \u001b[38;5;241m=\u001b[39m PCA(n_components\u001b[38;5;241m=\u001b[39m\u001b[38;5;241m2\u001b[39m)\n\u001b[0;32m----> 2\u001b[0m X_pca \u001b[38;5;241m=\u001b[39m pca\u001b[38;5;241m.\u001b[39mfit_transform(X_transformed)\n",
      "File \u001b[0;32m~/Documents/anaconda3/lib/python3.11/site-packages/sklearn/utils/_set_output.py:157\u001b[0m, in \u001b[0;36m_wrap_method_output.<locals>.wrapped\u001b[0;34m(self, X, *args, **kwargs)\u001b[0m\n\u001b[1;32m    155\u001b[0m \u001b[38;5;129m@wraps\u001b[39m(f)\n\u001b[1;32m    156\u001b[0m \u001b[38;5;28;01mdef\u001b[39;00m \u001b[38;5;21mwrapped\u001b[39m(\u001b[38;5;28mself\u001b[39m, X, \u001b[38;5;241m*\u001b[39margs, \u001b[38;5;241m*\u001b[39m\u001b[38;5;241m*\u001b[39mkwargs):\n\u001b[0;32m--> 157\u001b[0m     data_to_wrap \u001b[38;5;241m=\u001b[39m f(\u001b[38;5;28mself\u001b[39m, X, \u001b[38;5;241m*\u001b[39margs, \u001b[38;5;241m*\u001b[39m\u001b[38;5;241m*\u001b[39mkwargs)\n\u001b[1;32m    158\u001b[0m     \u001b[38;5;28;01mif\u001b[39;00m \u001b[38;5;28misinstance\u001b[39m(data_to_wrap, \u001b[38;5;28mtuple\u001b[39m):\n\u001b[1;32m    159\u001b[0m         \u001b[38;5;66;03m# only wrap the first output for cross decomposition\u001b[39;00m\n\u001b[1;32m    160\u001b[0m         return_tuple \u001b[38;5;241m=\u001b[39m (\n\u001b[1;32m    161\u001b[0m             _wrap_data_with_container(method, data_to_wrap[\u001b[38;5;241m0\u001b[39m], X, \u001b[38;5;28mself\u001b[39m),\n\u001b[1;32m    162\u001b[0m             \u001b[38;5;241m*\u001b[39mdata_to_wrap[\u001b[38;5;241m1\u001b[39m:],\n\u001b[1;32m    163\u001b[0m         )\n",
      "File \u001b[0;32m~/Documents/anaconda3/lib/python3.11/site-packages/sklearn/base.py:1152\u001b[0m, in \u001b[0;36m_fit_context.<locals>.decorator.<locals>.wrapper\u001b[0;34m(estimator, *args, **kwargs)\u001b[0m\n\u001b[1;32m   1145\u001b[0m     estimator\u001b[38;5;241m.\u001b[39m_validate_params()\n\u001b[1;32m   1147\u001b[0m \u001b[38;5;28;01mwith\u001b[39;00m config_context(\n\u001b[1;32m   1148\u001b[0m     skip_parameter_validation\u001b[38;5;241m=\u001b[39m(\n\u001b[1;32m   1149\u001b[0m         prefer_skip_nested_validation \u001b[38;5;129;01mor\u001b[39;00m global_skip_validation\n\u001b[1;32m   1150\u001b[0m     )\n\u001b[1;32m   1151\u001b[0m ):\n\u001b[0;32m-> 1152\u001b[0m     \u001b[38;5;28;01mreturn\u001b[39;00m fit_method(estimator, \u001b[38;5;241m*\u001b[39margs, \u001b[38;5;241m*\u001b[39m\u001b[38;5;241m*\u001b[39mkwargs)\n",
      "File \u001b[0;32m~/Documents/anaconda3/lib/python3.11/site-packages/sklearn/decomposition/_pca.py:460\u001b[0m, in \u001b[0;36mPCA.fit_transform\u001b[0;34m(self, X, y)\u001b[0m\n\u001b[1;32m    437\u001b[0m \u001b[38;5;129m@_fit_context\u001b[39m(prefer_skip_nested_validation\u001b[38;5;241m=\u001b[39m\u001b[38;5;28;01mTrue\u001b[39;00m)\n\u001b[1;32m    438\u001b[0m \u001b[38;5;28;01mdef\u001b[39;00m \u001b[38;5;21mfit_transform\u001b[39m(\u001b[38;5;28mself\u001b[39m, X, y\u001b[38;5;241m=\u001b[39m\u001b[38;5;28;01mNone\u001b[39;00m):\n\u001b[1;32m    439\u001b[0m \u001b[38;5;250m    \u001b[39m\u001b[38;5;124;03m\"\"\"Fit the model with X and apply the dimensionality reduction on X.\u001b[39;00m\n\u001b[1;32m    440\u001b[0m \n\u001b[1;32m    441\u001b[0m \u001b[38;5;124;03m    Parameters\u001b[39;00m\n\u001b[0;32m   (...)\u001b[0m\n\u001b[1;32m    458\u001b[0m \u001b[38;5;124;03m    C-ordered array, use 'np.ascontiguousarray'.\u001b[39;00m\n\u001b[1;32m    459\u001b[0m \u001b[38;5;124;03m    \"\"\"\u001b[39;00m\n\u001b[0;32m--> 460\u001b[0m     U, S, Vt \u001b[38;5;241m=\u001b[39m \u001b[38;5;28mself\u001b[39m\u001b[38;5;241m.\u001b[39m_fit(X)\n\u001b[1;32m    461\u001b[0m     U \u001b[38;5;241m=\u001b[39m U[:, : \u001b[38;5;28mself\u001b[39m\u001b[38;5;241m.\u001b[39mn_components_]\n\u001b[1;32m    463\u001b[0m     \u001b[38;5;28;01mif\u001b[39;00m \u001b[38;5;28mself\u001b[39m\u001b[38;5;241m.\u001b[39mwhiten:\n\u001b[1;32m    464\u001b[0m         \u001b[38;5;66;03m# X_new = X * V / S * sqrt(n_samples) = U * sqrt(n_samples)\u001b[39;00m\n",
      "File \u001b[0;32m~/Documents/anaconda3/lib/python3.11/site-packages/sklearn/decomposition/_pca.py:478\u001b[0m, in \u001b[0;36mPCA._fit\u001b[0;34m(self, X)\u001b[0m\n\u001b[1;32m    475\u001b[0m \u001b[38;5;66;03m# Raise an error for sparse input.\u001b[39;00m\n\u001b[1;32m    476\u001b[0m \u001b[38;5;66;03m# This is more informative than the generic one raised by check_array.\u001b[39;00m\n\u001b[1;32m    477\u001b[0m \u001b[38;5;28;01mif\u001b[39;00m issparse(X):\n\u001b[0;32m--> 478\u001b[0m     \u001b[38;5;28;01mraise\u001b[39;00m \u001b[38;5;167;01mTypeError\u001b[39;00m(\n\u001b[1;32m    479\u001b[0m         \u001b[38;5;124m\"\u001b[39m\u001b[38;5;124mPCA does not support sparse input. See \u001b[39m\u001b[38;5;124m\"\u001b[39m\n\u001b[1;32m    480\u001b[0m         \u001b[38;5;124m\"\u001b[39m\u001b[38;5;124mTruncatedSVD for a possible alternative.\u001b[39m\u001b[38;5;124m\"\u001b[39m\n\u001b[1;32m    481\u001b[0m     )\n\u001b[1;32m    483\u001b[0m X \u001b[38;5;241m=\u001b[39m \u001b[38;5;28mself\u001b[39m\u001b[38;5;241m.\u001b[39m_validate_data(\n\u001b[1;32m    484\u001b[0m     X, dtype\u001b[38;5;241m=\u001b[39m[np\u001b[38;5;241m.\u001b[39mfloat64, np\u001b[38;5;241m.\u001b[39mfloat32], ensure_2d\u001b[38;5;241m=\u001b[39m\u001b[38;5;28;01mTrue\u001b[39;00m, copy\u001b[38;5;241m=\u001b[39m\u001b[38;5;28mself\u001b[39m\u001b[38;5;241m.\u001b[39mcopy\n\u001b[1;32m    485\u001b[0m )\n\u001b[1;32m    487\u001b[0m \u001b[38;5;66;03m# Handle n_components==None\u001b[39;00m\n",
      "\u001b[0;31mTypeError\u001b[0m: PCA does not support sparse input. See TruncatedSVD for a possible alternative."
     ]
    }
   ],
   "source": [
    "pca = PCA(n_components=2)\n",
    "X_pca = pca.fit_transform(X_transformed)"
   ]
  },
  {
   "cell_type": "code",
   "execution_count": null,
   "id": "e613c7d9",
   "metadata": {},
   "outputs": [],
   "source": [
    "labels = clf.named_steps['cluster'].labels_\n"
   ]
  },
  {
   "cell_type": "code",
   "execution_count": null,
   "id": "55e59086",
   "metadata": {},
   "outputs": [],
   "source": [
    "plt.scatter(X_pca[:, 0], X_pca[:, 1], c=labels, cmap='viridis')\n",
    "plt.xlabel('PC1')\n",
    "plt.ylabel('PC2')\n",
    "plt.title('KMeans Clustering')\n",
    "plt.colorbar(label='Cluster')\n",
    "plt.show()"
   ]
  },
  {
   "cell_type": "code",
   "execution_count": 31,
   "id": "bf25daf2",
   "metadata": {},
   "outputs": [],
   "source": [
    "selected_features = ['Quantity', 'Price', 'Customer ID']\n",
    "new_data = random_sample[selected_features]"
   ]
  },
  {
   "cell_type": "code",
   "execution_count": 32,
   "id": "b890a2c3",
   "metadata": {},
   "outputs": [],
   "source": [
    "scaler = StandardScaler()\n",
    "data_scaled = scaler.fit_transform(new_data)"
   ]
  },
  {
   "cell_type": "code",
   "execution_count": 33,
   "id": "06628377",
   "metadata": {},
   "outputs": [],
   "source": [
    "kmeans = KMeans(n_clusters=2, random_state=42)\n",
    "kmeans_clusters = kmeans.fit_predict(data_scaled)"
   ]
  },
  {
   "cell_type": "code",
   "execution_count": 34,
   "id": "e68ab991",
   "metadata": {},
   "outputs": [
    {
     "name": "stdout",
     "output_type": "stream",
     "text": [
      "[299999.99999999965, 210849.8433220174, 135523.15628478918, 88770.13542394878, 71762.90626526639, 57960.05815915275, 44804.22001260583, 37366.32531954448, 32181.762710992138]\n"
     ]
    }
   ],
   "source": [
    "wcss = []\n",
    "for k in range(1,10):\n",
    "    kmeans = KMeans(n_clusters=k, n_init=10, random_state=42)\n",
    "    kmeans.fit(data_scaled)\n",
    "    wcss.append(kmeans.inertia_)\n",
    "print(wcss)"
   ]
  },
  {
   "cell_type": "code",
   "execution_count": 35,
   "id": "fcc69edf",
   "metadata": {},
   "outputs": [
    {
     "data": {
      "image/png": "[encoded data removed]",
      "text/plain": [
       "<Figure size 640x480 with 1 Axes>"
      ]
     },
     "metadata": {},
     "output_type": "display_data"
    }
   ],
   "source": [
    "plt.plot(range(1,10), wcss);"
   ]
  },
  {
   "cell_type": "code",
   "execution_count": 36,
   "id": "689f4a25",
   "metadata": {},
   "outputs": [
    {
     "name": "stdout",
     "output_type": "stream",
     "text": [
      "Silhouette Score for KMeans: 0.9916178450364995\n"
     ]
    }
   ],
   "source": [
    "kmeans_silhouette = silhouette_score(data_scaled, kmeans_clusters)\n",
    "print(\"Silhouette Score for KMeans:\", kmeans_silhouette)"
   ]
  },
  {
   "cell_type": "code",
   "execution_count": 37,
   "id": "2df3beff",
   "metadata": {},
   "outputs": [],
   "source": [
    "from sklearn.cluster import DBSCAN\n",
    "from sklearn_extra.cluster import KMedoids"
   ]
  },
  {
   "cell_type": "code",
   "execution_count": 38,
   "id": "bbf01f5f",
   "metadata": {},
   "outputs": [],
   "source": [
    "dbscan = DBSCAN(eps=0.5, min_samples=5)\n",
    "dbscan_clusters = dbscan.fit_predict(data_scaled)"
   ]
  },
  {
   "cell_type": "code",
   "execution_count": 39,
   "id": "41030ae5",
   "metadata": {},
   "outputs": [
    {
     "name": "stdout",
     "output_type": "stream",
     "text": [
      "Silhouette Score for DBSCAN: 0.6644420046400935\n"
     ]
    }
   ],
   "source": [
    "dbscan_silhouette = silhouette_score(data_scaled, dbscan_clusters)\n",
    "print(\"Silhouette Score for DBSCAN:\", dbscan_silhouette)"
   ]
  },
  {
   "cell_type": "code",
   "execution_count": null,
   "id": "90c69bda",
   "metadata": {},
   "outputs": [],
   "source": [
    "kmedoids = KMedoids(n_clusters=5, random_state=42)\n",
    "kmedoids_clusters = kmedoids.fit_predict(data_scaled)"
   ]
  },
  {
   "cell_type": "code",
   "execution_count": null,
   "id": "2d71b452",
   "metadata": {},
   "outputs": [],
   "source": [
    "kmedoids_silhouette = silhouette_score(data_scaled, kmedoids_clusters)\n",
    "print(\"Silhouette Score for K-Medoids:\", kmedoids_silhouette)"
   ]
  },
  {
   "cell_type": "code",
   "execution_count": 62,
   "id": "7a30a853",
   "metadata": {},
   "outputs": [],
   "source": [
    "from sklearn.decomposition import PCA\n"
   ]
  },
  {
   "cell_type": "code",
   "execution_count": null,
   "id": "a844ee10",
   "metadata": {},
   "outputs": [],
   "source": [
    "clf.fit(data_df)\n"
   ]
  },
  {
   "cell_type": "code",
   "execution_count": null,
   "id": "1975a5ec",
   "metadata": {},
   "outputs": [],
   "source": []
  },
  {
   "cell_type": "code",
   "execution_count": null,
   "id": "349b9da1",
   "metadata": {},
   "outputs": [],
   "source": []
  },
  {
   "cell_type": "code",
   "execution_count": null,
   "id": "898e8e96",
   "metadata": {},
   "outputs": [],
   "source": []
  },
  {
   "cell_type": "code",
   "execution_count": null,
   "id": "64aef900",
   "metadata": {},
   "outputs": [],
   "source": []
  },
  {
   "cell_type": "code",
   "execution_count": null,
   "id": "98a4989a",
   "metadata": {},
   "outputs": [],
   "source": []
  },
  {
   "cell_type": "code",
   "execution_count": 24,
   "id": "96e51a00",
   "metadata": {},
   "outputs": [
    {
     "ename": "NameError",
     "evalue": "name 'gdgrstrs' is not defined",
     "output_type": "error",
     "traceback": [
      "\u001b[0;31m---------------------------------------------------------------------------\u001b[0m",
      "\u001b[0;31mNameError\u001b[0m                                 Traceback (most recent call last)",
      "Cell \u001b[0;32mIn[24], line 1\u001b[0m\n\u001b[0;32m----> 1\u001b[0m gdgrstrs\n",
      "\u001b[0;31mNameError\u001b[0m: name 'gdgrstrs' is not defined"
     ]
    }
   ],
   "source": [
    "gdgrstrs"
   ]
  },
  {
   "cell_type": "code",
   "execution_count": null,
   "id": "f0455c60",
   "metadata": {},
   "outputs": [],
   "source": [
    "data_encoded = pd.get_dummies(random_sample, columns=['Country', 'Description'])"
   ]
  },
  {
   "cell_type": "code",
   "execution_count": null,
   "id": "e2de37d2",
   "metadata": {},
   "outputs": [],
   "source": [
    "data_encoded['StockCode'].dtype\n"
   ]
  },
  {
   "cell_type": "code",
   "execution_count": null,
   "id": "d732fda8",
   "metadata": {},
   "outputs": [],
   "source": [
    "data_encoded['StockCode'] = data_encoded['StockCode'].str.extract('(\\d+)')\n"
   ]
  },
  {
   "cell_type": "code",
   "execution_count": null,
   "id": "49059063",
   "metadata": {},
   "outputs": [],
   "source": [
    "missing_values = data_encoded.isna().sum()\n",
    "print(missing_values)\n"
   ]
  },
  {
   "cell_type": "code",
   "execution_count": null,
   "id": "ceee89c8",
   "metadata": {},
   "outputs": [],
   "source": [
    "data_encoded.head()"
   ]
  },
  {
   "cell_type": "code",
   "execution_count": null,
   "id": "21436e72",
   "metadata": {},
   "outputs": [],
   "source": [
    "scaler = StandardScaler()\n",
    "data_scaled = scaler.fit_transform(data_encoded)"
   ]
  },
  {
   "cell_type": "code",
   "execution_count": null,
   "id": "cd07520b",
   "metadata": {},
   "outputs": [],
   "source": [
    "scaler = StandardScaler()\n",
    "data_scaled = scaler.fit_transform(data_encoded[['Quantity', 'Customer ID', 'Price']])"
   ]
  },
  {
   "cell_type": "code",
   "execution_count": null,
   "id": "d00724b1",
   "metadata": {},
   "outputs": [],
   "source": [
    "kmeans = KMeans(n_clusters=5, random_state=42)"
   ]
  },
  {
   "cell_type": "code",
   "execution_count": null,
   "id": "fc62b728",
   "metadata": {},
   "outputs": [],
   "source": [
    "kmeans_clusters = kmeans.fit_predict(data_scaled)\n"
   ]
  },
  {
   "cell_type": "code",
   "execution_count": null,
   "id": "13181c0e",
   "metadata": {},
   "outputs": [],
   "source": [
    "wcss = []\n",
    "for k in range(2, 10):\n",
    "    kmeans = KMeans(n_clusters=k, n_init=10, random_state=42)\n",
    "    kmeans.fit(data_scaled)\n",
    "    wcss.append(kmeans.inertia_)\n",
    "print(wcss)"
   ]
  },
  {
   "cell_type": "code",
   "execution_count": null,
   "id": "58a72d38",
   "metadata": {},
   "outputs": [],
   "source": [
    "plt.plot(range(2,10), wcss);"
   ]
  },
  {
   "cell_type": "code",
   "execution_count": null,
   "id": "60509923",
   "metadata": {},
   "outputs": [],
   "source": [
    "kmeans_silhouette = silhouette_score(data_scaled, kmeans_clusters)\n",
    "print(\"Silhouette Score for KMeans:\", kmeans_silhouette)\n"
   ]
  },
  {
   "cell_type": "code",
   "execution_count": null,
   "id": "9f3b545e",
   "metadata": {},
   "outputs": [],
   "source": [
    "plt.scatter(data_scaled[:, 0], data_scaled[:, 1], c=kmeans_clusters, cmap='viridis', s=50, edgecolors='k')\n",
    "plt.title('KMeans Clustering')\n",
    "plt.xlabel('Feature 1')\n",
    "plt.ylabel('Feature 2')\n",
    "plt.show()"
   ]
  },
  {
   "cell_type": "code",
   "execution_count": null,
   "id": "2a7234cb",
   "metadata": {},
   "outputs": [],
   "source": [
    "plt.figure(figsize=(12, 6))\n",
    "plt.subplot(1, 3, 1)\n",
    "plt.scatter(data_scaled[:, 0], data_scaled[:, 1], c=kmeans_clusters, cmap='viridis')\n",
    "plt.title(f'K-Means (Silhouette Score: {kmeans_silhouette:.2f})')\n",
    "plt.xlabel('Quantity (Scaled)')\n",
    "plt.ylabel('Price (Scaled)')\n",
    "plt.tight_layout()\n",
    "plt.show()"
   ]
  },
  {
   "cell_type": "code",
   "execution_count": null,
   "id": "6cf2d7de",
   "metadata": {},
   "outputs": [],
   "source": [
    "from sklearn.cluster import DBSCAN"
   ]
  },
  {
   "cell_type": "code",
   "execution_count": null,
   "id": "4f639303",
   "metadata": {},
   "outputs": [],
   "source": [
    "dbscan = DBSCAN(eps=0.5, min_samples=5)\n",
    "dbscan_clusters = dbscan.fit_predict(data_scaled)"
   ]
  },
  {
   "cell_type": "code",
   "execution_count": null,
   "id": "a00d248a",
   "metadata": {},
   "outputs": [],
   "source": [
    "plt.subplot(1, 3, 2)\n",
    "plt.scatter(data_scaled[:, 0], data_scaled[:, 1], c=dbscan_clusters, cmap='viridis')\n",
    "plt.title('DBSCAN')\n",
    "plt.xlabel('Quantity (Scaled)')\n",
    "plt.ylabel('Price (Scaled)')\n",
    "plt.tight_layout()\n",
    "plt.show()"
   ]
  },
  {
   "cell_type": "code",
   "execution_count": null,
   "id": "87d3578d",
   "metadata": {},
   "outputs": [],
   "source": []
  },
  {
   "cell_type": "code",
   "execution_count": null,
   "id": "5addbfdf",
   "metadata": {},
   "outputs": [],
   "source": [
    "dfvdfd"
   ]
  },
  {
   "cell_type": "code",
   "execution_count": null,
   "id": "8d51c280",
   "metadata": {},
   "outputs": [],
   "source": [
    "from sklearn.preprocessing import StandardScaler, OneHotEncoder\n",
    "from sklearn.cluster import KMeans, DBSCAN, AgglomerativeClustering"
   ]
  },
  {
   "cell_type": "code",
   "execution_count": null,
   "id": "22d6a2bf",
   "metadata": {},
   "outputs": [],
   "source": [
    "data_encoded = pd.get_dummies(data_df, columns=['Country', 'Description'])"
   ]
  },
  {
   "cell_type": "code",
   "execution_count": null,
   "id": "70addc6a",
   "metadata": {},
   "outputs": [],
   "source": [
    "scaler = StandardScaler()\n",
    "data_scaled = scaler.fit_transform(data_encoded[['Quantity', 'Price']])"
   ]
  },
  {
   "cell_type": "code",
   "execution_count": null,
   "id": "6c1bd5fa",
   "metadata": {},
   "outputs": [],
   "source": [
    "data_scaled"
   ]
  },
  {
   "cell_type": "code",
   "execution_count": null,
   "id": "757da4b9",
   "metadata": {},
   "outputs": [],
   "source": [
    "wcss = []\n",
    "for k in range(2, 10):\n",
    "    kmeans = KMeans(n_clusters=k, n_init=10, random_state=42)\n",
    "    kmeans.fit(data_scaled)\n",
    "    wcss.append(kmeans.inertia_)\n",
    "print(wcss)"
   ]
  },
  {
   "cell_type": "code",
   "execution_count": null,
   "id": "a6405b26",
   "metadata": {},
   "outputs": [],
   "source": [
    "plt.plot(range(2,10), wcss);"
   ]
  },
  {
   "cell_type": "code",
   "execution_count": null,
   "id": "63c1ceaf",
   "metadata": {},
   "outputs": [],
   "source": [
    "kmeans = KMeans(n_clusters=3, n_init=10, random_state=42)"
   ]
  },
  {
   "cell_type": "code",
   "execution_count": null,
   "id": "5506c404",
   "metadata": {},
   "outputs": [],
   "source": [
    "data_scaled.head()"
   ]
  },
  {
   "cell_type": "code",
   "execution_count": null,
   "id": "03173b6a",
   "metadata": {},
   "outputs": [],
   "source": [
    "kmeans.cluster_centers_"
   ]
  },
  {
   "cell_type": "code",
   "execution_count": null,
   "id": "3e79dc27",
   "metadata": {},
   "outputs": [],
   "source": [
    "kmeans.fit(data_scaled)"
   ]
  },
  {
   "cell_type": "code",
   "execution_count": null,
   "id": "0ebe41c8",
   "metadata": {},
   "outputs": [],
   "source": []
  },
  {
   "cell_type": "code",
   "execution_count": null,
   "id": "f59b09f3",
   "metadata": {},
   "outputs": [],
   "source": []
  },
  {
   "cell_type": "code",
   "execution_count": null,
   "id": "f5d44ea3",
   "metadata": {},
   "outputs": [],
   "source": []
  },
  {
   "cell_type": "markdown",
   "id": "00dc7715",
   "metadata": {},
   "source": [
    "kmeans_silhouette = silhouette_score(data_scaled, kmeans_clusters)"
   ]
  },
  {
   "cell_type": "code",
   "execution_count": null,
   "id": "0a40549f",
   "metadata": {},
   "outputs": [],
   "source": [
    "plt.figure(figsize=(12, 6))\n",
    "plt.subplot(1, 3, 1)\n",
    "plt.scatter(data_scaled[:, 0], data_scaled[:, 1], c=kmeans_clusters, cmap='viridis')\n",
    "plt.title(f'K-Means (Silhouette Score: {kmeans_silhouette:.2f})')\n",
    "plt.xlabel('Quantity (Scaled)')\n",
    "plt.ylabel('Price (Scaled)')\n",
    "plt.tight_layout()\n",
    "plt.show()"
   ]
  },
  {
   "cell_type": "code",
   "execution_count": null,
   "id": "52bbf962",
   "metadata": {},
   "outputs": [],
   "source": []
  },
  {
   "cell_type": "markdown",
   "id": "d6674e79",
   "metadata": {},
   "source": [
    "Label encoder to be used to transform Country from a categorical feature into a numerical feature to be able to use it in clustering."
   ]
  },
  {
   "cell_type": "code",
   "execution_count": null,
   "id": "26ed6f53",
   "metadata": {},
   "outputs": [],
   "source": [
    "from sklearn.preprocessing import LabelEncoder"
   ]
  },
  {
   "cell_type": "code",
   "execution_count": null,
   "id": "e0760af7",
   "metadata": {},
   "outputs": [],
   "source": [
    "label = LabelEncoder()"
   ]
  },
  {
   "cell_type": "code",
   "execution_count": null,
   "id": "8bf77dde",
   "metadata": {},
   "outputs": [],
   "source": [
    "data_df['New Country']=label.fit_transform(data_df['Country'])"
   ]
  },
  {
   "cell_type": "code",
   "execution_count": null,
   "id": "0369d58d",
   "metadata": {},
   "outputs": [],
   "source": [
    "data_df.drop(['Country'],axis=1,inplace=True)"
   ]
  },
  {
   "cell_type": "code",
   "execution_count": null,
   "id": "c5844d33",
   "metadata": {},
   "outputs": [],
   "source": [
    "data_df.head(100)"
   ]
  },
  {
   "cell_type": "markdown",
   "id": "29c056ec",
   "metadata": {},
   "source": [
    "Drop categorical data and create a new dataset that consists of three features that will be clustered."
   ]
  },
  {
   "cell_type": "code",
   "execution_count": null,
   "id": "51a0002c",
   "metadata": {},
   "outputs": [],
   "source": [
    "new_data = data_df[['Quantity', 'Price', 'New Country']]"
   ]
  },
  {
   "cell_type": "code",
   "execution_count": null,
   "id": "594b1adf",
   "metadata": {},
   "outputs": [],
   "source": [
    "plt.figure(figsize=(12, 6))\n",
    "plt.subplot(1, 2, 1)\n",
    "sns.histplot(data=new_data, x='Quantity', bins=20, kde=True)\n",
    "plt.title('Distribution of Quantity')\n",
    "\n",
    "plt.subplot(1, 2, 2)\n",
    "sns.histplot(data=new_data, x='Price', bins=20, kde=True)\n",
    "plt.title('Distribution of Price')\n",
    "\n",
    "plt.tight_layout()\n",
    "plt.show()"
   ]
  },
  {
   "cell_type": "code",
   "execution_count": null,
   "id": "cfa572a3",
   "metadata": {},
   "outputs": [],
   "source": [
    "plt.figure(figsize=(8, 6))\n",
    "sns.scatterplot(data=new_data, x='Quantity', y='Price')\n",
    "plt.title('Scatter Plot of Quantity vs. Price')\n",
    "plt.xlabel('Quantity')\n",
    "plt.ylabel('Price')\n",
    "plt.show()"
   ]
  },
  {
   "cell_type": "code",
   "execution_count": null,
   "id": "5d9bc209",
   "metadata": {},
   "outputs": [],
   "source": [
    "plt.figure(figsize=(10, 6))\n",
    "sns.boxplot(data=new_data[['Quantity', 'Price']])\n",
    "plt.title('Box Plot of Quantity and Price')\n",
    "plt.ylabel('Value')\n",
    "plt.show()"
   ]
  },
  {
   "cell_type": "code",
   "execution_count": null,
   "id": "da7f73f0",
   "metadata": {},
   "outputs": [],
   "source": [
    "plt.figure(figsize=(12, 6))\n",
    "sns.countplot(data=new_data, x='New Country', order=new_data['New Country'].value_counts().index)\n",
    "plt.title('Bar Plot of New Country')\n",
    "plt.xticks(rotation=45)\n",
    "plt.xlabel('Country')\n",
    "plt.ylabel('Count')\n",
    "plt.show()"
   ]
  },
  {
   "cell_type": "code",
   "execution_count": null,
   "id": "28096391",
   "metadata": {},
   "outputs": [],
   "source": [
    "plt.figure(figsize=(12, 6))\n",
    "sns.violinplot(data=new_data, x='New Country', y='Quantity')\n",
    "plt.title('Violin Plot of Quantity by New Country')\n",
    "plt.xticks(rotation=45)\n",
    "plt.xlabel('Country')\n",
    "plt.ylabel('Quantity')\n",
    "plt.show()"
   ]
  },
  {
   "cell_type": "markdown",
   "id": "48705de6",
   "metadata": {},
   "source": [
    "sns.kdeplot(new_df['New Country'], shade=True,hue=new_data['Quantity']);"
   ]
  },
  {
   "cell_type": "markdown",
   "id": "cec28e55",
   "metadata": {},
   "source": [
    "for i in columns:\n",
    "    plt.figure()\n",
    "    sns.displot(columns[i])"
   ]
  },
  {
   "cell_type": "markdown",
   "id": "6b09cb18",
   "metadata": {},
   "source": [
    "Using standard scaler to improve the performance of algorithms."
   ]
  },
  {
   "cell_type": "code",
   "execution_count": null,
   "id": "65e86d6b",
   "metadata": {},
   "outputs": [],
   "source": [
    "scaler = StandardScaler()\n",
    "scaled = scaler.fit_transform(new_data)"
   ]
  },
  {
   "cell_type": "code",
   "execution_count": null,
   "id": "cf47da94",
   "metadata": {},
   "outputs": [],
   "source": [
    "new_data.head()"
   ]
  },
  {
   "cell_type": "code",
   "execution_count": null,
   "id": "e56bd652",
   "metadata": {},
   "outputs": [],
   "source": [
    "clustering1 = KMeans(n_clusters=2)"
   ]
  },
  {
   "cell_type": "code",
   "execution_count": null,
   "id": "b9f7b546",
   "metadata": {},
   "outputs": [],
   "source": [
    "clustering1.fit(new_data[['New Country']])"
   ]
  },
  {
   "cell_type": "code",
   "execution_count": null,
   "id": "9a4757d7",
   "metadata": {},
   "outputs": [],
   "source": [
    "clustering1.labels_"
   ]
  },
  {
   "cell_type": "code",
   "execution_count": null,
   "id": "cc80cae0",
   "metadata": {},
   "outputs": [],
   "source": [
    "new_data['Country Cluster']=clustering1.labels_\n",
    "new_data.head()"
   ]
  },
  {
   "cell_type": "code",
   "execution_count": null,
   "id": "295c5e5f",
   "metadata": {},
   "outputs": [],
   "source": [
    "new_data['Country Cluster'].value_counts()"
   ]
  },
  {
   "cell_type": "code",
   "execution_count": null,
   "id": "1014b6ff",
   "metadata": {},
   "outputs": [],
   "source": [
    "clustering1.inertia_"
   ]
  },
  {
   "cell_type": "code",
   "execution_count": null,
   "id": "fa2f8024",
   "metadata": {},
   "outputs": [],
   "source": [
    "wcss = []\n",
    "for k in range(1, 10):\n",
    "    kmeans = KMeans(n_clusters=k, n_init=10, random_state=42)\n",
    "    kmeans.fit(new_data[['New Country']])\n",
    "    wcss.append(kmeans.inertia_)\n",
    "print(wcss)"
   ]
  },
  {
   "cell_type": "code",
   "execution_count": null,
   "id": "45877b03",
   "metadata": {},
   "outputs": [],
   "source": [
    "plt.plot(range(1,10), wcss);"
   ]
  },
  {
   "cell_type": "code",
   "execution_count": null,
   "id": "f18303ee",
   "metadata": {},
   "outputs": [],
   "source": [
    "new_data.groupby('Country Cluster')['Quantity', \n",
    "       'Price', 'New Country'].mean()"
   ]
  },
  {
   "cell_type": "code",
   "execution_count": null,
   "id": "5a0bd728",
   "metadata": {},
   "outputs": [],
   "source": [
    "clustering2 = KMeans(n_clusters=3)\n",
    "clustering2.fit(new_data[['New Country','Quantity']])\n",
    "new_data['Country Cluster and Quantity'] = clustering2.labels_\n",
    "new_data.head()"
   ]
  },
  {
   "cell_type": "code",
   "execution_count": null,
   "id": "e91c5ff1",
   "metadata": {},
   "outputs": [],
   "source": [
    "wcss1 = []\n",
    "for k in range(1, 10):\n",
    "    kmeans1 = KMeans(n_clusters=k, n_init=10, random_state=42)\n",
    "    kmeans1.fit(new_data[['New Country','Quantity']])\n",
    "    wcss1.append(kmeans1.inertia_)\n",
    "print(wcss1)"
   ]
  },
  {
   "cell_type": "code",
   "execution_count": null,
   "id": "aa290219",
   "metadata": {},
   "outputs": [],
   "source": [
    "plt.plot(range(1,10), wcss1);"
   ]
  },
  {
   "cell_type": "code",
   "execution_count": null,
   "id": "999baed5",
   "metadata": {},
   "outputs": [],
   "source": [
    "sns.scatterplot(data=new_data, x='New Country', y='Quantity',hue='Country Cluster and Quantity')"
   ]
  },
  {
   "cell_type": "code",
   "execution_count": null,
   "id": "18b47134",
   "metadata": {},
   "outputs": [],
   "source": [
    "center = pd.DataFrame(clustering2.cluster_centers_)\n",
    "center.columns = ['X', 'Y']"
   ]
  },
  {
   "cell_type": "code",
   "execution_count": null,
   "id": "662e06e8",
   "metadata": {},
   "outputs": [],
   "source": [
    "plt.figure(figsize=(10,8))\n",
    "plt.scatter(x=center['X'],y=center['Y'],s=100,c='black',marker='*')\n",
    "\n",
    "sns.scatterplot(data=new_data, x='New Country', y='Quantity',hue='Country Cluster and Quantity')"
   ]
  },
  {
   "cell_type": "code",
   "execution_count": null,
   "id": "ddb61650",
   "metadata": {},
   "outputs": [],
   "source": []
  },
  {
   "cell_type": "code",
   "execution_count": null,
   "id": "ef05f1a4",
   "metadata": {},
   "outputs": [],
   "source": []
  },
  {
   "cell_type": "code",
   "execution_count": null,
   "id": "86adcb89",
   "metadata": {},
   "outputs": [],
   "source": []
  },
  {
   "cell_type": "code",
   "execution_count": null,
   "id": "dd33c7f3",
   "metadata": {},
   "outputs": [],
   "source": [
    "kmeans = KMeans(n_clusters=6, n_init=10, random_state=42)\n",
    "kmeans.fit_predict('Quantity')"
   ]
  },
  {
   "cell_type": "code",
   "execution_count": null,
   "id": "91fe8742",
   "metadata": {},
   "outputs": [],
   "source": []
  },
  {
   "cell_type": "code",
   "execution_count": null,
   "id": "61321ffa",
   "metadata": {},
   "outputs": [],
   "source": [
    "wcss = []\n",
    "for k in range(0, 10):\n",
    "    kmeans = KMeans(n_clusters=k, n_init=10, random_state=42)\n",
    "    kmeans.fit(new_data)\n",
    "    wcss.append(kmeans.inertia_)\n",
    "print(wcss)"
   ]
  },
  {
   "cell_type": "code",
   "execution_count": null,
   "id": "8a5b92b6",
   "metadata": {},
   "outputs": [],
   "source": [
    "plt.plot(range(2,10), wcss);"
   ]
  },
  {
   "cell_type": "code",
   "execution_count": null,
   "id": "c269a80a",
   "metadata": {},
   "outputs": [],
   "source": [
    "new_data['Country Cluster'] = kmeans.labels_\n",
    "new_data.head(100)"
   ]
  },
  {
   "cell_type": "code",
   "execution_count": null,
   "id": "67456d17",
   "metadata": {},
   "outputs": [],
   "source": [
    "def plotFeatures(col1, col2):\n",
    "    plt.scatter(\n",
    "        new_data[kmeans.labels_ == 0].iloc[:, col1],\n",
    "        new_data[kmeans.labels_ == 0].iloc[:, col2],\n",
    "        s=50,\n",
    "        c='red',\n",
    "        label='Cluster 1'\n",
    "    )\n",
    "    plt.scatter(\n",
    "        new_data[kmeans.labels_ == 1].iloc[:, col1],\n",
    "        new_data[kmeans.labels_ == 1].iloc[:, col2],\n",
    "        s=50,\n",
    "        c='blue',\n",
    "        label='Cluster 2'\n",
    "    )\n",
    "    plt.scatter(\n",
    "        new_data[kmeans.labels_ == 2].iloc[:, col1],\n",
    "        new_data[kmeans.labels_ == 2].iloc[:, col2],\n",
    "        s=50,\n",
    "        c='green',\n",
    "        label='Cluster 3'\n",
    "    )\n",
    "    plt.scatter(\n",
    "        kmeans.cluster_centers_[:, col1],\n",
    "        kmeans.cluster_centers_[:, col2],\n",
    "        s=100,\n",
    "        c='yellow',\n",
    "        label='Centroids'\n",
    "    )\n",
    "    plt.xlabel(new_data.columns[col1])\n",
    "    plt.ylabel(new_data.columns[col2])\n",
    "    plt.legend()\n",
    "    plt.title('Clustering based on ' + new_data.columns[col1] + ' and ' + new_data.columns[col2])\n",
    "    plt.show()\n",
    "\n",
    "plotFeatures(0, 1)  \n"
   ]
  },
  {
   "cell_type": "code",
   "execution_count": null,
   "id": "86797ef9",
   "metadata": {},
   "outputs": [],
   "source": [
    "plotFeatures(0,2)"
   ]
  },
  {
   "cell_type": "code",
   "execution_count": null,
   "id": "3724771b",
   "metadata": {},
   "outputs": [],
   "source": [
    "plotFeatures(1,2)"
   ]
  },
  {
   "cell_type": "markdown",
   "id": "4fee0b7a",
   "metadata": {},
   "source": [
    "kmeans = KMeans(n_clusters=3,n_init=10,random_state=42)"
   ]
  },
  {
   "cell_type": "markdown",
   "id": "20347614",
   "metadata": {},
   "source": [
    "y_pred = kmeans.fit_predict(x)"
   ]
  },
  {
   "cell_type": "markdown",
   "id": "aef63f22",
   "metadata": {},
   "source": [
    "y_pred"
   ]
  },
  {
   "cell_type": "markdown",
   "id": "4bce42f4",
   "metadata": {},
   "source": [
    "wcss = []\n",
    "for k in range(2,10):\n",
    "    kmeans = KMeans(n_clusters=k,n_init=10,random_state=42)\n",
    "    kmeans.fit(x)\n",
    "    wcss.append(kmeans.inertia_)\n",
    "print(wcss)"
   ]
  },
  {
   "cell_type": "markdown",
   "id": "314d887d",
   "metadata": {},
   "source": [
    "plt.plot(range(2,10),wcss);"
   ]
  },
  {
   "cell_type": "markdown",
   "id": "2c4017a5",
   "metadata": {},
   "source": [
    "silhouette_score(x,y_pred)"
   ]
  },
  {
   "cell_type": "code",
   "execution_count": null,
   "id": "dfd22a31",
   "metadata": {},
   "outputs": [],
   "source": [
    "clustering1 = KMeans()"
   ]
  },
  {
   "cell_type": "code",
   "execution_count": null,
   "id": "1857ab4d",
   "metadata": {},
   "outputs": [],
   "source": [
    "clustering1.fit(new_data[['New Country']])"
   ]
  },
  {
   "cell_type": "code",
   "execution_count": null,
   "id": "83f8bd37",
   "metadata": {},
   "outputs": [],
   "source": [
    "clustering1.labels_\n",
    "#for label in clustering1.labels_:\n",
    "    #print(label)\n"
   ]
  },
  {
   "cell_type": "code",
   "execution_count": null,
   "id": "f872e89d",
   "metadata": {},
   "outputs": [],
   "source": [
    "new_data['Country Cluster'].value_counts()"
   ]
  },
  {
   "cell_type": "code",
   "execution_count": null,
   "id": "3314c1ae",
   "metadata": {},
   "outputs": [],
   "source": []
  },
  {
   "cell_type": "code",
   "execution_count": null,
   "id": "95062c80",
   "metadata": {},
   "outputs": [],
   "source": [
    "from sklearn.cluster import KMeans\n",
    "from sklearn.preprocessing import StandardScaler\n",
    "from sklearn_extra.cluster import KMedoids\n"
   ]
  },
  {
   "cell_type": "code",
   "execution_count": null,
   "id": "8809ac9e",
   "metadata": {},
   "outputs": [],
   "source": [
    "df = data_df[['Quantity','Price']]"
   ]
  },
  {
   "cell_type": "code",
   "execution_count": null,
   "id": "65f075ad",
   "metadata": {},
   "outputs": [],
   "source": [
    "df.head()"
   ]
  },
  {
   "cell_type": "code",
   "execution_count": null,
   "id": "17928254",
   "metadata": {},
   "outputs": [],
   "source": [
    "standard = StandardScaler()"
   ]
  },
  {
   "cell_type": "code",
   "execution_count": null,
   "id": "9cd93d35",
   "metadata": {},
   "outputs": [],
   "source": [
    "x = standard.fit_transform(df)"
   ]
  },
  {
   "cell_type": "code",
   "execution_count": null,
   "id": "4f34016b",
   "metadata": {},
   "outputs": [],
   "source": [
    "coumns = df.columns"
   ]
  },
  {
   "cell_type": "code",
   "execution_count": null,
   "id": "ce714bce",
   "metadata": {},
   "outputs": [],
   "source": [
    "coumns"
   ]
  },
  {
   "cell_type": "code",
   "execution_count": null,
   "id": "32c5a2cc",
   "metadata": {},
   "outputs": [],
   "source": [
    "df = pd.DataFrame(standard.fit_transform(df),columns=coumns)"
   ]
  },
  {
   "cell_type": "code",
   "execution_count": null,
   "id": "f3bd7b82",
   "metadata": {},
   "outputs": [],
   "source": [
    "df.head()"
   ]
  },
  {
   "cell_type": "markdown",
   "id": "9b77f5e5",
   "metadata": {},
   "source": [
    "K-elbow method"
   ]
  },
  {
   "cell_type": "code",
   "execution_count": null,
   "id": "000a3f14",
   "metadata": {},
   "outputs": [],
   "source": [
    "wcss = []\n",
    "for k in range (2,10):\n",
    "    kmeans = KMeans(n_clusters = k,random_state=42)\n",
    "    kmeans.fit(x)\n",
    "    wcss.append(kmeans.inertia_)\n",
    "plt.plot(range(2,10),wcss);    "
   ]
  },
  {
   "cell_type": "markdown",
   "id": "62058890",
   "metadata": {},
   "source": [
    "Silhouette Score"
   ]
  },
  {
   "cell_type": "markdown",
   "id": "8fa7b0af",
   "metadata": {},
   "source": [
    "wcss = []\n",
    "for k in range (2,10):\n",
    "    kmeans = KMeans(n_clusters = k,random_state=42)\n",
    "    y_kmeans = kmeans.fit_predict(df)\n",
    "    wcss.append(silhouette_score(df,y_kmeans))\n",
    "plt.plot(range(2,10),wcss);    "
   ]
  },
  {
   "cell_type": "code",
   "execution_count": null,
   "id": "7ef7b828",
   "metadata": {},
   "outputs": [],
   "source": []
  }
 ],
 "metadata": {
  "kernelspec": {
   "display_name": "Python 3 (ipykernel)",
   "language": "python",
   "name": "python3"
  },
  "language_info": {
   "codemirror_mode": {
    "name": "ipython",
    "version": 3
   },
   "file_extension": ".py",
   "mimetype": "text/x-python",
   "name": "python",
   "nbconvert_exporter": "python",
   "pygments_lexer": "ipython3",
   "version": "3.11.4"
  }
 },
 "nbformat": 4,
 "nbformat_minor": 5
}
